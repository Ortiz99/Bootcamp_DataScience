{
 "cells": [
  {
   "cell_type": "markdown",
   "id": "95f5ce49",
   "metadata": {},
   "source": [
    "## Numpy\n",
    "Paquete para operaciones matemáticas"
   ]
  },
  {
   "cell_type": "code",
   "execution_count": 4,
   "id": "2a4211b5",
   "metadata": {},
   "outputs": [],
   "source": [
    "import numpy as np\n",
    "import time"
   ]
  },
  {
   "cell_type": "code",
   "execution_count": null,
   "id": "6c955f13",
   "metadata": {},
   "outputs": [],
   "source": [
    "dir(np)"
   ]
  },
  {
   "cell_type": "code",
   "execution_count": null,
   "id": "e9847694",
   "metadata": {},
   "outputs": [],
   "source": [
    "lista_1 = [1,2,3,4,5]\n",
    "lista_2 = [6,7,8,9,10]"
   ]
  },
  {
   "cell_type": "code",
   "execution_count": null,
   "id": "a0228161",
   "metadata": {},
   "outputs": [],
   "source": [
    "lista_1 + lista_2"
   ]
  },
  {
   "cell_type": "code",
   "execution_count": null,
   "id": "9ac97f23",
   "metadata": {},
   "outputs": [],
   "source": [
    "#1D Array\n",
    "a = np.array([1,2,3]) #Arreglo o Vector, diferente a listas\n",
    "print(a)"
   ]
  },
  {
   "cell_type": "code",
   "execution_count": null,
   "id": "529f4ff2",
   "metadata": {},
   "outputs": [],
   "source": [
    "b = np.array([(1,2,3),(4,5,6)]) #Matriz\n",
    "print(b)"
   ]
  },
  {
   "cell_type": "code",
   "execution_count": null,
   "id": "fb1f593d",
   "metadata": {},
   "outputs": [],
   "source": [
    "import sys"
   ]
  },
  {
   "cell_type": "code",
   "execution_count": null,
   "id": "b4915eea",
   "metadata": {},
   "outputs": [],
   "source": [
    "s = range(1000000000000000000000000000000000)"
   ]
  },
  {
   "cell_type": "code",
   "execution_count": null,
   "id": "47962ea8",
   "metadata": {},
   "outputs": [],
   "source": [
    "#test\n",
    "size = 10000\n",
    "list_1 = range(size)\n",
    "list_2 = range(size)\n",
    "array_1 = np.arange(size)\n",
    "array_2 = np.arange(size)\n",
    "\n",
    "start = time.time()\n",
    "result = [(x,y) for x,y in zip(list_1,list_2)]\n",
    "print(f\"{(time.time() - start) * 1000} ms\")"
   ]
  },
  {
   "cell_type": "code",
   "execution_count": null,
   "id": "e7690baa",
   "metadata": {},
   "outputs": [],
   "source": [
    "%%time\n",
    "result"
   ]
  },
  {
   "cell_type": "code",
   "execution_count": null,
   "id": "45a278d7",
   "metadata": {},
   "outputs": [],
   "source": [
    "#Matrices\n",
    "matriz_1 = np.ones((10,10))\n",
    "matriz_1"
   ]
  }
 ],
 "metadata": {
  "kernelspec": {
   "display_name": "Python 3 (ipykernel)",
   "language": "python",
   "name": "python3"
  },
  "language_info": {
   "codemirror_mode": {
    "name": "ipython",
    "version": 3
   },
   "file_extension": ".py",
   "mimetype": "text/x-python",
   "name": "python",
   "nbconvert_exporter": "python",
   "pygments_lexer": "ipython3",
   "version": "3.8.10"
  }
 },
 "nbformat": 4,
 "nbformat_minor": 5
}
