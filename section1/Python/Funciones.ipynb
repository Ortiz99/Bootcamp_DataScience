{
 "cells": [
  {
   "cell_type": "markdown",
   "id": "5ecf589a",
   "metadata": {},
   "source": [
    "## Funciones"
   ]
  },
  {
   "cell_type": "code",
   "execution_count": null,
   "id": "8eee114a",
   "metadata": {},
   "outputs": [],
   "source": [
    "def add(x,y):\n",
    "    return x+y    "
   ]
  },
  {
   "cell_type": "code",
   "execution_count": null,
   "id": "32985d7e",
   "metadata": {},
   "outputs": [],
   "source": [
    "add(5,3)"
   ]
  },
  {
   "cell_type": "code",
   "execution_count": 13,
   "id": "9b514619",
   "metadata": {},
   "outputs": [],
   "source": [
    "lista = [1,2,3,4,5]"
   ]
  },
  {
   "cell_type": "code",
   "execution_count": 22,
   "id": "ba5a75c0",
   "metadata": {},
   "outputs": [],
   "source": [
    "def agregarPromedio(lista):\n",
    "    lista.append(sum(lista)/len(lista))"
   ]
  },
  {
   "cell_type": "code",
   "execution_count": 23,
   "id": "940d2e22",
   "metadata": {},
   "outputs": [],
   "source": [
    "agregarPromedio(lista)"
   ]
  },
  {
   "cell_type": "code",
   "execution_count": null,
   "id": "10d295f7",
   "metadata": {},
   "outputs": [],
   "source": []
  }
 ],
 "metadata": {
  "kernelspec": {
   "display_name": "Python 3 (ipykernel)",
   "language": "python",
   "name": "python3"
  },
  "language_info": {
   "codemirror_mode": {
    "name": "ipython",
    "version": 3
   },
   "file_extension": ".py",
   "mimetype": "text/x-python",
   "name": "python",
   "nbconvert_exporter": "python",
   "pygments_lexer": "ipython3",
   "version": "3.8.8"
  }
 },
 "nbformat": 4,
 "nbformat_minor": 5
}
