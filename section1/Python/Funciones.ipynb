{
 "cells": [
  {
   "cell_type": "markdown",
   "id": "5ecf589a",
   "metadata": {},
   "source": [
    "## Funciones"
   ]
  },
  {
   "cell_type": "code",
   "execution_count": null,
   "id": "5777c7aa",
   "metadata": {},
   "outputs": [],
   "source": [
    "a = 1\n",
    "b = 2\n",
    "lista = [0,1,2,3,4,5,6,7,8,9]\n",
    "print(lista, type(lista))\n",
    "print(help(lista.reverse))\n",
    "lista.reverse()\n",
    "\n",
    "for i in lista:\n",
    "    print(f\"A = {a + i} y B = {b + i}\")\n",
    "    print(f\"Suma = {a + b}\")"
   ]
  },
  {
   "cell_type": "code",
   "execution_count": 4,
   "id": "8d6ffaed",
   "metadata": {},
   "outputs": [],
   "source": [
    "def suma_con(a,b):\n",
    "    return a+b\n",
    "\n",
    "def suma_sin(a,b):\n",
    "    print(a+b)\n",
    "\n",
    "def suma_tri(a,b,c):\n",
    "    return a+b+c"
   ]
  },
  {
   "cell_type": "code",
   "execution_count": null,
   "id": "d3c1e6db",
   "metadata": {},
   "outputs": [],
   "source": []
  }
 ],
 "metadata": {
  "kernelspec": {
   "display_name": "Python 3 (ipykernel)",
   "language": "python",
   "name": "python3"
  },
  "language_info": {
   "codemirror_mode": {
    "name": "ipython",
    "version": 3
   },
   "file_extension": ".py",
   "mimetype": "text/x-python",
   "name": "python",
   "nbconvert_exporter": "python",
   "pygments_lexer": "ipython3",
   "version": "3.8.8"
  }
 },
 "nbformat": 4,
 "nbformat_minor": 5
}
