{
 "cells": [
  {
   "cell_type": "markdown",
   "id": "99b8fd99",
   "metadata": {},
   "source": [
    "# Diccionario\n",
    "Un diccionario es como una lista, pero más general, en las listas los indices tienen que ser enteros, en un diccionario pueden ser de casi cualquier tipo, un diccionario es una asociación entre un conjunto de indices(llamados claves) y un conjunto de valores."
   ]
  },
  {
   "cell_type": "code",
   "execution_count": 2,
   "id": "37f7ba7e",
   "metadata": {},
   "outputs": [
    {
     "data": {
      "text/plain": [
       "{}"
      ]
     },
     "execution_count": 2,
     "metadata": {},
     "output_type": "execute_result"
    }
   ],
   "source": [
    "english_to_spanish = dict() #Se puede crear un diccionario con dict o poniendo corchetes vacios\n",
    "english_to_spanish"
   ]
  },
  {
   "cell_type": "code",
   "execution_count": 5,
   "id": "fccd2456",
   "metadata": {},
   "outputs": [],
   "source": [
    "english_to_spanish['one'] = 'uno'"
   ]
  },
  {
   "cell_type": "code",
   "execution_count": 6,
   "id": "664b1608",
   "metadata": {},
   "outputs": [
    {
     "data": {
      "text/plain": [
       "{'one': 'uno'}"
      ]
     },
     "execution_count": 6,
     "metadata": {},
     "output_type": "execute_result"
    }
   ],
   "source": [
    "english_to_spanish"
   ]
  },
  {
   "cell_type": "code",
   "execution_count": 7,
   "id": "0e497197",
   "metadata": {},
   "outputs": [
    {
     "data": {
      "text/plain": [
       "'uno'"
      ]
     },
     "execution_count": 7,
     "metadata": {},
     "output_type": "execute_result"
    }
   ],
   "source": [
    "english_to_spanish['one']"
   ]
  },
  {
   "cell_type": "code",
   "execution_count": 8,
   "id": "c01fd1cf",
   "metadata": {},
   "outputs": [
    {
     "data": {
      "text/plain": [
       "'uno'"
      ]
     },
     "execution_count": 8,
     "metadata": {},
     "output_type": "execute_result"
    }
   ],
   "source": [
    "english_to_spanish.get('one')"
   ]
  },
  {
   "cell_type": "code",
   "execution_count": 9,
   "id": "eb13d2c0",
   "metadata": {},
   "outputs": [
    {
     "data": {
      "text/plain": [
       "1"
      ]
     },
     "execution_count": 9,
     "metadata": {},
     "output_type": "execute_result"
    }
   ],
   "source": [
    "len(english_to_spanish)"
   ]
  },
  {
   "cell_type": "code",
   "execution_count": 10,
   "id": "ea47f515",
   "metadata": {},
   "outputs": [
    {
     "data": {
      "text/plain": [
       "True"
      ]
     },
     "execution_count": 10,
     "metadata": {},
     "output_type": "execute_result"
    }
   ],
   "source": [
    "'one' in english_to_spanish"
   ]
  },
  {
   "cell_type": "code",
   "execution_count": 12,
   "id": "6770eba9",
   "metadata": {},
   "outputs": [
    {
     "data": {
      "text/plain": [
       "True"
      ]
     },
     "execution_count": 12,
     "metadata": {},
     "output_type": "execute_result"
    }
   ],
   "source": [
    "valores = english_to_spanish.values()\n",
    "'uno' in valores"
   ]
  }
 ],
 "metadata": {
  "kernelspec": {
   "display_name": "Python 3 (ipykernel)",
   "language": "python",
   "name": "python3"
  },
  "language_info": {
   "codemirror_mode": {
    "name": "ipython",
    "version": 3
   },
   "file_extension": ".py",
   "mimetype": "text/x-python",
   "name": "python",
   "nbconvert_exporter": "python",
   "pygments_lexer": "ipython3",
   "version": "3.8.8"
  }
 },
 "nbformat": 4,
 "nbformat_minor": 5
}
