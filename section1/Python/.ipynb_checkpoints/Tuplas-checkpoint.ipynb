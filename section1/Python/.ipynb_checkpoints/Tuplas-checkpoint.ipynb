{
 "cells": [
  {
   "cell_type": "markdown",
   "id": "4695549c",
   "metadata": {},
   "source": [
    "# Tuplas\n",
    "Secuencia de valores similares a las listas.\n",
    "Las tuplas son inmutables."
   ]
  },
  {
   "cell_type": "code",
   "execution_count": 1,
   "id": "8ad0b55d",
   "metadata": {},
   "outputs": [],
   "source": [
    "tupla = 'a', 'b', 'c', 'd' # con o sin parentesis"
   ]
  },
  {
   "cell_type": "code",
   "execution_count": 2,
   "id": "0472bf11",
   "metadata": {},
   "outputs": [
    {
     "data": {
      "text/plain": [
       "('a', 'b', 'c', 'd')"
      ]
     },
     "execution_count": 2,
     "metadata": {},
     "output_type": "execute_result"
    }
   ],
   "source": [
    "tupla"
   ]
  },
  {
   "cell_type": "code",
   "execution_count": 3,
   "id": "2bd81f47",
   "metadata": {},
   "outputs": [
    {
     "data": {
      "text/plain": [
       "tuple"
      ]
     },
     "execution_count": 3,
     "metadata": {},
     "output_type": "execute_result"
    }
   ],
   "source": [
    "type(tupla)"
   ]
  },
  {
   "cell_type": "code",
   "execution_count": 5,
   "id": "0c84f91a",
   "metadata": {},
   "outputs": [],
   "source": [
    "#Para crear una tupla con un solo elemento, toca poner una coma al final\n",
    "tpla1 = ('a',)"
   ]
  },
  {
   "cell_type": "code",
   "execution_count": 6,
   "id": "c8bef9a3",
   "metadata": {},
   "outputs": [],
   "source": [
    "tupla = tuple()"
   ]
  },
  {
   "cell_type": "code",
   "execution_count": 9,
   "id": "fa4e4d0e",
   "metadata": {},
   "outputs": [],
   "source": [
    "tupla = ('a','b','c','d')"
   ]
  },
  {
   "cell_type": "code",
   "execution_count": 10,
   "id": "8f03e221",
   "metadata": {},
   "outputs": [
    {
     "data": {
      "text/plain": [
       "'b'"
      ]
     },
     "execution_count": 10,
     "metadata": {},
     "output_type": "execute_result"
    }
   ],
   "source": [
    "tupla[1]"
   ]
  },
  {
   "cell_type": "code",
   "execution_count": 11,
   "id": "3c72dbe5",
   "metadata": {},
   "outputs": [
    {
     "data": {
      "text/plain": [
       "('b', 'c')"
      ]
     },
     "execution_count": 11,
     "metadata": {},
     "output_type": "execute_result"
    }
   ],
   "source": [
    "tupla[1:3]"
   ]
  },
  {
   "cell_type": "code",
   "execution_count": 12,
   "id": "279a1a5d",
   "metadata": {},
   "outputs": [
    {
     "ename": "TypeError",
     "evalue": "'tuple' object does not support item assignment",
     "output_type": "error",
     "traceback": [
      "\u001b[0;31m---------------------------------------------------------------------------\u001b[0m",
      "\u001b[0;31mTypeError\u001b[0m                                 Traceback (most recent call last)",
      "\u001b[0;32m<ipython-input-12-236bca5f1556>\u001b[0m in \u001b[0;36m<module>\u001b[0;34m\u001b[0m\n\u001b[1;32m      1\u001b[0m \u001b[0;31m#No se puede modificar la tupla\u001b[0m\u001b[0;34m\u001b[0m\u001b[0;34m\u001b[0m\u001b[0;34m\u001b[0m\u001b[0m\n\u001b[0;32m----> 2\u001b[0;31m \u001b[0mtupla\u001b[0m\u001b[0;34m[\u001b[0m\u001b[0;36m1\u001b[0m\u001b[0;34m]\u001b[0m \u001b[0;34m=\u001b[0m \u001b[0;34m'A'\u001b[0m\u001b[0;34m\u001b[0m\u001b[0;34m\u001b[0m\u001b[0m\n\u001b[0m",
      "\u001b[0;31mTypeError\u001b[0m: 'tuple' object does not support item assignment"
     ]
    }
   ],
   "source": [
    "#No se puede modificar la tupla\n",
    "tupla[1] = 'A'"
   ]
  },
  {
   "cell_type": "code",
   "execution_count": 14,
   "id": "ec9ae155",
   "metadata": {},
   "outputs": [
    {
     "data": {
      "text/plain": [
       "('A', 'b', 'c', 'd')"
      ]
     },
     "execution_count": 14,
     "metadata": {},
     "output_type": "execute_result"
    }
   ],
   "source": [
    "tupla_nueva = ('A',) + tupla[1:]\n",
    "tupla_nueva"
   ]
  },
  {
   "cell_type": "code",
   "execution_count": 16,
   "id": "51869704",
   "metadata": {},
   "outputs": [
    {
     "data": {
      "text/plain": [
       "('j', 'u', 'n', 'i', 'o', 'r')"
      ]
     },
     "execution_count": 16,
     "metadata": {},
     "output_type": "execute_result"
    }
   ],
   "source": [
    "#Si asignamos un string a una tupla, cada caracter se convierte en un elemento de la tupla\n",
    "tupla1 = tuple('junior')\n",
    "tupla1"
   ]
  },
  {
   "cell_type": "markdown",
   "id": "3b9e5fc6",
   "metadata": {},
   "source": [
    "# Comparación de Tuplas"
   ]
  },
  {
   "cell_type": "code",
   "execution_count": 17,
   "id": "77fd0407",
   "metadata": {},
   "outputs": [
    {
     "data": {
      "text/plain": [
       "False"
      ]
     },
     "execution_count": 17,
     "metadata": {},
     "output_type": "execute_result"
    }
   ],
   "source": [
    "(1,2,3) < (0,2,3)"
   ]
  },
  {
   "cell_type": "markdown",
   "id": "92e20d0d",
   "metadata": {},
   "source": [
    "# Asignación de Tuplas"
   ]
  },
  {
   "cell_type": "code",
   "execution_count": 18,
   "id": "409742df",
   "metadata": {},
   "outputs": [],
   "source": [
    "m = ('machine', 'learning')"
   ]
  },
  {
   "cell_type": "code",
   "execution_count": 19,
   "id": "51acdee2",
   "metadata": {},
   "outputs": [],
   "source": [
    "x,y = m"
   ]
  },
  {
   "cell_type": "code",
   "execution_count": 20,
   "id": "4ef3a8a9",
   "metadata": {},
   "outputs": [
    {
     "data": {
      "text/plain": [
       "'machine'"
      ]
     },
     "execution_count": 20,
     "metadata": {},
     "output_type": "execute_result"
    }
   ],
   "source": [
    "x"
   ]
  },
  {
   "cell_type": "code",
   "execution_count": 21,
   "id": "9454bc80",
   "metadata": {},
   "outputs": [
    {
     "data": {
      "text/plain": [
       "'learning'"
      ]
     },
     "execution_count": 21,
     "metadata": {},
     "output_type": "execute_result"
    }
   ],
   "source": [
    "y"
   ]
  },
  {
   "cell_type": "code",
   "execution_count": null,
   "id": "bad1bd6e",
   "metadata": {},
   "outputs": [],
   "source": []
  }
 ],
 "metadata": {
  "kernelspec": {
   "display_name": "Python 3 (ipykernel)",
   "language": "python",
   "name": "python3"
  },
  "language_info": {
   "codemirror_mode": {
    "name": "ipython",
    "version": 3
   },
   "file_extension": ".py",
   "mimetype": "text/x-python",
   "name": "python",
   "nbconvert_exporter": "python",
   "pygments_lexer": "ipython3",
   "version": "3.8.8"
  }
 },
 "nbformat": 4,
 "nbformat_minor": 5
}
