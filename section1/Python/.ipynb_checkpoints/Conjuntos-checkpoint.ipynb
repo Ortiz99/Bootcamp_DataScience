{
 "cells": [
  {
   "cell_type": "markdown",
   "id": "f19c06c8",
   "metadata": {},
   "source": [
    "## Conjuntos\n",
    "Los conjuntos son una colección de elementos.\n",
    "No poseen orden y son análogos a los conjuntos matemáticos.\n",
    "Son mutables"
   ]
  },
  {
   "cell_type": "code",
   "execution_count": 3,
   "id": "cc7a5ce5",
   "metadata": {},
   "outputs": [],
   "source": [
    "conjunto = {1,2,3,4}"
   ]
  },
  {
   "cell_type": "code",
   "execution_count": 4,
   "id": "149903b7",
   "metadata": {},
   "outputs": [
    {
     "data": {
      "text/plain": [
       "set"
      ]
     },
     "execution_count": 4,
     "metadata": {},
     "output_type": "execute_result"
    }
   ],
   "source": [
    "type(conjunto)"
   ]
  },
  {
   "cell_type": "code",
   "execution_count": 7,
   "id": "783c7e8f",
   "metadata": {},
   "outputs": [
    {
     "ename": "TypeError",
     "evalue": "'set' object is not subscriptable",
     "output_type": "error",
     "traceback": [
      "\u001b[0;31m---------------------------------------------------------------------------\u001b[0m",
      "\u001b[0;31mTypeError\u001b[0m                                 Traceback (most recent call last)",
      "\u001b[0;32m<ipython-input-7-c1a01aca1bf1>\u001b[0m in \u001b[0;36m<module>\u001b[0;34m\u001b[0m\n\u001b[1;32m      1\u001b[0m \u001b[0;31m#No podemos indexar, es decir, buscar un elemento en el conjunto por su indice, como se hacía con las listas\u001b[0m\u001b[0;34m\u001b[0m\u001b[0;34m\u001b[0m\u001b[0;34m\u001b[0m\u001b[0m\n\u001b[0;32m----> 2\u001b[0;31m \u001b[0mconjunto\u001b[0m\u001b[0;34m[\u001b[0m\u001b[0;36m1\u001b[0m\u001b[0;34m]\u001b[0m\u001b[0;34m\u001b[0m\u001b[0;34m\u001b[0m\u001b[0m\n\u001b[0m",
      "\u001b[0;31mTypeError\u001b[0m: 'set' object is not subscriptable"
     ]
    }
   ],
   "source": [
    "#No podemos indexar, es decir, buscar un elemento en el conjunto por su indice, como se hacía con las listas\n",
    "conjunto[1]"
   ]
  },
  {
   "cell_type": "code",
   "execution_count": 8,
   "id": "b73ac9f7",
   "metadata": {},
   "outputs": [
    {
     "ename": "TypeError",
     "evalue": "unhashable type: 'list'",
     "output_type": "error",
     "traceback": [
      "\u001b[0;31m---------------------------------------------------------------------------\u001b[0m",
      "\u001b[0;31mTypeError\u001b[0m                                 Traceback (most recent call last)",
      "\u001b[0;32m<ipython-input-8-58d92b9410cb>\u001b[0m in \u001b[0;36m<module>\u001b[0;34m\u001b[0m\n\u001b[1;32m      1\u001b[0m \u001b[0;31m#Un conjunto no puede incluir objetos mutables\u001b[0m\u001b[0;34m\u001b[0m\u001b[0;34m\u001b[0m\u001b[0;34m\u001b[0m\u001b[0m\n\u001b[0;32m----> 2\u001b[0;31m \u001b[0ms\u001b[0m \u001b[0;34m=\u001b[0m \u001b[0;34m{\u001b[0m\u001b[0;34m[\u001b[0m\u001b[0;36m1\u001b[0m\u001b[0;34m,\u001b[0m\u001b[0;36m2\u001b[0m\u001b[0;34m]\u001b[0m\u001b[0;34m}\u001b[0m\u001b[0;34m\u001b[0m\u001b[0;34m\u001b[0m\u001b[0m\n\u001b[0m",
      "\u001b[0;31mTypeError\u001b[0m: unhashable type: 'list'"
     ]
    }
   ],
   "source": [
    "#Un conjunto no puede incluir objetos mutables\n",
    "s = {[1,2]}"
   ]
  },
  {
   "cell_type": "code",
   "execution_count": 9,
   "id": "dc2e62b7",
   "metadata": {},
   "outputs": [],
   "source": [
    "#Los conjuntos y los diccionarios se declaran de la misma forma\n",
    "s = {}"
   ]
  },
  {
   "cell_type": "code",
   "execution_count": 10,
   "id": "29e9af2a",
   "metadata": {},
   "outputs": [
    {
     "data": {
      "text/plain": [
       "dict"
      ]
     },
     "execution_count": 10,
     "metadata": {},
     "output_type": "execute_result"
    }
   ],
   "source": [
    "type(s) #Esto es la inicialización de un diccionario vacío"
   ]
  },
  {
   "cell_type": "code",
   "execution_count": 11,
   "id": "99ad513d",
   "metadata": {},
   "outputs": [],
   "source": [
    "#Conjunto vacío\n",
    "s = set()"
   ]
  },
  {
   "cell_type": "code",
   "execution_count": 12,
   "id": "55736658",
   "metadata": {},
   "outputs": [
    {
     "data": {
      "text/plain": [
       "set"
      ]
     },
     "execution_count": 12,
     "metadata": {},
     "output_type": "execute_result"
    }
   ],
   "source": [
    "type(s)"
   ]
  },
  {
   "cell_type": "code",
   "execution_count": 18,
   "id": "61a324e4",
   "metadata": {},
   "outputs": [],
   "source": [
    "#Podemos crear un conjunto desde un elemento iterable\n",
    "s1 = set([1,2,3,4,5,6,7,8])\n",
    "s2 = set(range(len(s1)))"
   ]
  },
  {
   "cell_type": "code",
   "execution_count": 19,
   "id": "9dcb65e9",
   "metadata": {},
   "outputs": [
    {
     "data": {
      "text/plain": [
       "{0, 1, 2, 3, 4, 5, 6, 7}"
      ]
     },
     "execution_count": 19,
     "metadata": {},
     "output_type": "execute_result"
    }
   ],
   "source": [
    "s2"
   ]
  },
  {
   "cell_type": "markdown",
   "id": "8ba6713a",
   "metadata": {},
   "source": [
    "Un conjunto puede ser convertido en una lista y viceversa."
   ]
  },
  {
   "cell_type": "code",
   "execution_count": 21,
   "id": "32655d05",
   "metadata": {},
   "outputs": [
    {
     "data": {
      "text/plain": [
       "[1, 2, 3, 4, 5, 6, 7]"
      ]
     },
     "execution_count": 21,
     "metadata": {},
     "output_type": "execute_result"
    }
   ],
   "source": [
    "list({1, 2, 3, 4, 5, 6, 7})"
   ]
  },
  {
   "cell_type": "code",
   "execution_count": 23,
   "id": "c6e3538c",
   "metadata": {},
   "outputs": [
    {
     "data": {
      "text/plain": [
       "{1, 2, 3, 4, 5, 6, 7}"
      ]
     },
     "execution_count": 23,
     "metadata": {},
     "output_type": "execute_result"
    }
   ],
   "source": [
    "set([1,2,3,4,5,6,7])"
   ]
  },
  {
   "cell_type": "code",
   "execution_count": 24,
   "id": "bcfd17cc",
   "metadata": {},
   "outputs": [
    {
     "data": {
      "text/plain": [
       "{1, 2, 3, 4, 5, 6}"
      ]
     },
     "execution_count": 24,
     "metadata": {},
     "output_type": "execute_result"
    }
   ],
   "source": [
    "#Cuando se intenta convertir una lista a un conjunto los valores duplicados, se unifican\n",
    "set([1,2,3,3,3,4,4,5,6,5,5])"
   ]
  },
  {
   "cell_type": "markdown",
   "id": "320ed676",
   "metadata": {},
   "source": [
    "## Métodos en Conjuntos"
   ]
  },
  {
   "cell_type": "code",
   "execution_count": 3,
   "id": "d624aadd",
   "metadata": {},
   "outputs": [
    {
     "data": {
      "text/plain": [
       "{1, 2, 3, 4, 5}"
      ]
     },
     "execution_count": 3,
     "metadata": {},
     "output_type": "execute_result"
    }
   ],
   "source": [
    "conjunto = {1,2,3,4}\n",
    "conjunto.add(5)\n",
    "conjunto"
   ]
  },
  {
   "cell_type": "code",
   "execution_count": 4,
   "id": "1e956ea6",
   "metadata": {},
   "outputs": [
    {
     "data": {
      "text/plain": [
       "{1, 3, 4, 5}"
      ]
     },
     "execution_count": 4,
     "metadata": {},
     "output_type": "execute_result"
    }
   ],
   "source": [
    "conjunto.discard(2)\n",
    "conjunto"
   ]
  },
  {
   "cell_type": "code",
   "execution_count": 5,
   "id": "1f081dcb",
   "metadata": {},
   "outputs": [
    {
     "data": {
      "text/plain": [
       "True"
      ]
     },
     "execution_count": 5,
     "metadata": {},
     "output_type": "execute_result"
    }
   ],
   "source": [
    "#Determinar si un elemento pertenece al conjunto\n",
    "5 in conjunto"
   ]
  },
  {
   "cell_type": "code",
   "execution_count": 6,
   "id": "bbce3e00",
   "metadata": {},
   "outputs": [
    {
     "data": {
      "text/plain": [
       "False"
      ]
     },
     "execution_count": 6,
     "metadata": {},
     "output_type": "execute_result"
    }
   ],
   "source": [
    "2 in conjunto"
   ]
  },
  {
   "cell_type": "markdown",
   "id": "b58753b0",
   "metadata": {},
   "source": [
    "## Operaciones Fundamentales\n",
    "La unión se realiza con el carácter |"
   ]
  },
  {
   "cell_type": "code",
   "execution_count": 10,
   "id": "7898d996",
   "metadata": {},
   "outputs": [],
   "source": [
    "A = {1,2,3,4,5}\n",
    "B = {5,6,7,8,9}"
   ]
  },
  {
   "cell_type": "code",
   "execution_count": 11,
   "id": "ecc912ce",
   "metadata": {},
   "outputs": [
    {
     "data": {
      "text/plain": [
       "{1, 2, 3, 4, 5, 6, 7, 8, 9}"
      ]
     },
     "execution_count": 11,
     "metadata": {},
     "output_type": "execute_result"
    }
   ],
   "source": [
    "#Unión\n",
    "A|B"
   ]
  },
  {
   "cell_type": "code",
   "execution_count": 12,
   "id": "5b763e58",
   "metadata": {},
   "outputs": [
    {
     "data": {
      "text/plain": [
       "{5}"
      ]
     },
     "execution_count": 12,
     "metadata": {},
     "output_type": "execute_result"
    }
   ],
   "source": [
    "#Intersección\n",
    "A&B"
   ]
  },
  {
   "cell_type": "code",
   "execution_count": 13,
   "id": "1d624442",
   "metadata": {},
   "outputs": [
    {
     "data": {
      "text/plain": [
       "{1, 2, 3, 4}"
      ]
     },
     "execution_count": 13,
     "metadata": {},
     "output_type": "execute_result"
    }
   ],
   "source": [
    "#Diferencia = Elementos que se encuentran en A pero no en B\n",
    "A-B"
   ]
  },
  {
   "cell_type": "code",
   "execution_count": 17,
   "id": "ef712cfb",
   "metadata": {},
   "outputs": [
    {
     "data": {
      "text/plain": [
       "False"
      ]
     },
     "execution_count": 17,
     "metadata": {},
     "output_type": "execute_result"
    }
   ],
   "source": [
    "#Comparación de conjuntos\n",
    "A==B"
   ]
  },
  {
   "cell_type": "code",
   "execution_count": 16,
   "id": "b0e2433a",
   "metadata": {},
   "outputs": [
    {
     "data": {
      "text/plain": [
       "True"
      ]
     },
     "execution_count": 16,
     "metadata": {},
     "output_type": "execute_result"
    }
   ],
   "source": [
    "A!=B"
   ]
  }
 ],
 "metadata": {
  "kernelspec": {
   "display_name": "Python 3 (ipykernel)",
   "language": "python",
   "name": "python3"
  },
  "language_info": {
   "codemirror_mode": {
    "name": "ipython",
    "version": 3
   },
   "file_extension": ".py",
   "mimetype": "text/x-python",
   "name": "python",
   "nbconvert_exporter": "python",
   "pygments_lexer": "ipython3",
   "version": "3.8.8"
  }
 },
 "nbformat": 4,
 "nbformat_minor": 5
}
