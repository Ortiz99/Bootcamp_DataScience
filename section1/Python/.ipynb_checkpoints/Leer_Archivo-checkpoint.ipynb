{
 "cells": [
  {
   "cell_type": "code",
   "execution_count": 15,
   "id": "95107982",
   "metadata": {},
   "outputs": [],
   "source": [
    "lectura_archivo = open(\"mbox-short.txt\")"
   ]
  },
  {
   "cell_type": "code",
   "execution_count": null,
   "id": "88b470dd",
   "metadata": {},
   "outputs": [],
   "source": [
    "lectura = lectura_archivo.read()"
   ]
  },
  {
   "cell_type": "code",
   "execution_count": null,
   "id": "a63cf9e5",
   "metadata": {},
   "outputs": [],
   "source": [
    "len(lectura)"
   ]
  },
  {
   "cell_type": "code",
   "execution_count": 12,
   "id": "522c44f1",
   "metadata": {},
   "outputs": [
    {
     "name": "stdout",
     "output_type": "stream",
     "text": [
      "Números de lineas 1910\n"
     ]
    }
   ],
   "source": [
    "contador = 0\n",
    "\n",
    "for linea in lectura_archivo:\n",
    "    contador += 1\n",
    "print(\"Números de lineas\", contador)"
   ]
  }
 ],
 "metadata": {
  "kernelspec": {
   "display_name": "Python 3 (ipykernel)",
   "language": "python",
   "name": "python3"
  },
  "language_info": {
   "codemirror_mode": {
    "name": "ipython",
    "version": 3
   },
   "file_extension": ".py",
   "mimetype": "text/x-python",
   "name": "python",
   "nbconvert_exporter": "python",
   "pygments_lexer": "ipython3",
   "version": "3.8.8"
  }
 },
 "nbformat": 4,
 "nbformat_minor": 5
}
