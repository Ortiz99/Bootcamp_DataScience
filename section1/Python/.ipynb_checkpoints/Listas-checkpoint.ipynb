{
 "cells": [
  {
   "cell_type": "markdown",
   "id": "7b1333ee",
   "metadata": {},
   "source": [
    "### Las cadenas son inmutables\n",
    "   "
   ]
  },
  {
   "cell_type": "code",
   "execution_count": null,
   "id": "60482ac9",
   "metadata": {},
   "outputs": [],
   "source": [
    "cadena = \"Procesamiento de texto\""
   ]
  },
  {
   "cell_type": "code",
   "execution_count": null,
   "id": "e20d453e",
   "metadata": {},
   "outputs": [],
   "source": [
    "cadena[0] = \"M\""
   ]
  },
  {
   "cell_type": "code",
   "execution_count": null,
   "id": "5c239793",
   "metadata": {},
   "outputs": [],
   "source": [
    "cadena[1:]"
   ]
  },
  {
   "cell_type": "code",
   "execution_count": null,
   "id": "e2673610",
   "metadata": {},
   "outputs": [],
   "source": [
    "cadena = \"Procesamiento de texto\"\n",
    "nueva_cadena = \"T\" + cadena[1:]\n",
    "print(nueva_cadena)"
   ]
  },
  {
   "cell_type": "markdown",
   "id": "cdec16cd",
   "metadata": {},
   "source": [
    "### Analizando Cadenas"
   ]
  },
  {
   "cell_type": "code",
   "execution_count": null,
   "id": "3d3acd29",
   "metadata": {},
   "outputs": [],
   "source": [
    "dato = \"rortizro@ibero.edu.co Thursday\"\n",
    "posicion_arroba = dato.find(\"@\")\n",
    "# Espacio despues del @\n",
    "espacio_arroba = dato.find(' ', posicion_arroba)\n",
    "print(posicion_arroba)"
   ]
  },
  {
   "cell_type": "code",
   "execution_count": null,
   "id": "c744b7c7",
   "metadata": {},
   "outputs": [],
   "source": [
    "dato[posicion_arroba:espacio_arroba]"
   ]
  },
  {
   "cell_type": "markdown",
   "id": "d3cb7a58",
   "metadata": {},
   "source": [
    "### Listas"
   ]
  },
  {
   "cell_type": "code",
   "execution_count": null,
   "id": "3fc3328e",
   "metadata": {},
   "outputs": [],
   "source": [
    "lista1 = [1,2,3]\n",
    "lista2 = [\"Rafael\", \"Ortiz\"]\n",
    "lista3 = [\"Rafael\", \"Ortiz\", 1, 2, 3, [\"Colombia\", 1, 2]]"
   ]
  },
  {
   "cell_type": "code",
   "execution_count": null,
   "id": "3374d34f",
   "metadata": {},
   "outputs": [],
   "source": [
    "type(lista3)"
   ]
  },
  {
   "cell_type": "markdown",
   "id": "1d7c1dcf",
   "metadata": {},
   "source": [
    "### Recorriendo una Lista"
   ]
  },
  {
   "cell_type": "code",
   "execution_count": null,
   "id": "263946a1",
   "metadata": {},
   "outputs": [],
   "source": [
    "paises = [\"Colombia\", \"Perú\", \"Venezuela\", \"Bolivia\"]"
   ]
  },
  {
   "cell_type": "code",
   "execution_count": null,
   "id": "e9bc0cc0",
   "metadata": {},
   "outputs": [],
   "source": [
    "for pais in paises:\n",
    "    print(pais)"
   ]
  },
  {
   "cell_type": "code",
   "execution_count": null,
   "id": "e2095dd6",
   "metadata": {},
   "outputs": [],
   "source": [
    "for i in range(len(paises)):\n",
    "    paises[i] = paises[i] + 'Bien'\n",
    "print(paises)"
   ]
  },
  {
   "cell_type": "markdown",
   "id": "aea2b0d1",
   "metadata": {},
   "source": [
    "### Operaciones con Listas"
   ]
  },
  {
   "cell_type": "code",
   "execution_count": null,
   "id": "39945ed2",
   "metadata": {},
   "outputs": [],
   "source": [
    "lista_1 = [\"Colombia\", \"Brasil\", \"Argentina\"]\n",
    "lista_2 = [1, 2, 3]\n",
    "lista_3 = lista_1 + lista_2"
   ]
  },
  {
   "cell_type": "code",
   "execution_count": null,
   "id": "4a6b2aa8",
   "metadata": {},
   "outputs": [],
   "source": [
    "lista_3"
   ]
  },
  {
   "cell_type": "code",
   "execution_count": null,
   "id": "540904d5",
   "metadata": {},
   "outputs": [],
   "source": [
    "lista_2 * 2"
   ]
  },
  {
   "cell_type": "markdown",
   "id": "78e3dda2",
   "metadata": {},
   "source": [
    "### Rebanado de Listas"
   ]
  },
  {
   "cell_type": "code",
   "execution_count": null,
   "id": "4c85949d",
   "metadata": {},
   "outputs": [],
   "source": [
    "t = ['a', 'b', 'c', 'd', 'e', 'f']\n",
    "t[1:3]"
   ]
  },
  {
   "cell_type": "code",
   "execution_count": null,
   "id": "5dc2dc09",
   "metadata": {},
   "outputs": [],
   "source": [
    "t[3:]"
   ]
  },
  {
   "cell_type": "code",
   "execution_count": null,
   "id": "0257e758",
   "metadata": {},
   "outputs": [],
   "source": [
    "t[1:]"
   ]
  },
  {
   "cell_type": "code",
   "execution_count": null,
   "id": "dfdab516",
   "metadata": {},
   "outputs": [],
   "source": [
    "t[-3:]"
   ]
  },
  {
   "cell_type": "markdown",
   "id": "d1a30922",
   "metadata": {},
   "source": [
    "### Métodos de las listas"
   ]
  },
  {
   "cell_type": "code",
   "execution_count": null,
   "id": "292bb40d",
   "metadata": {},
   "outputs": [],
   "source": [
    "t = ['a', 'b', 'c']\n",
    "t.append('d')\n",
    "t"
   ]
  },
  {
   "cell_type": "code",
   "execution_count": null,
   "id": "dfde1515",
   "metadata": {},
   "outputs": [],
   "source": [
    "t2 = ['e', 'f']\n",
    "t.extend(t2)\n",
    "t"
   ]
  },
  {
   "cell_type": "code",
   "execution_count": null,
   "id": "990b0c83",
   "metadata": {},
   "outputs": [],
   "source": [
    "# Ordenar una lista\n",
    "t.sort()"
   ]
  },
  {
   "cell_type": "code",
   "execution_count": null,
   "id": "b46178b6",
   "metadata": {},
   "outputs": [],
   "source": [
    "#Eliminar elemento de una lista conociendo el indice\n",
    "t.pop(1)\n",
    "#del t[1] también sirve\n",
    "t"
   ]
  },
  {
   "cell_type": "code",
   "execution_count": null,
   "id": "5bdbe0a9",
   "metadata": {},
   "outputs": [],
   "source": [
    "# Si conocemos el elemento, pero no el indice\n",
    "t.remove('d')"
   ]
  },
  {
   "cell_type": "code",
   "execution_count": null,
   "id": "2a000b5c",
   "metadata": {},
   "outputs": [],
   "source": [
    "t = ['a', 'b', 'c', 'd', 'e', 'f']\n",
    "del t[3:5]\n",
    "t"
   ]
  },
  {
   "cell_type": "markdown",
   "id": "fcfe5797",
   "metadata": {},
   "source": [
    "### Listas y Funciones"
   ]
  },
  {
   "cell_type": "code",
   "execution_count": null,
   "id": "7ba0ce6e",
   "metadata": {
    "scrolled": true
   },
   "outputs": [],
   "source": [
    "lista = [1,2,3,56,78,91,45]"
   ]
  },
  {
   "cell_type": "code",
   "execution_count": null,
   "id": "474cdafc",
   "metadata": {},
   "outputs": [],
   "source": [
    "print(len(lista))"
   ]
  },
  {
   "cell_type": "code",
   "execution_count": null,
   "id": "3fccc703",
   "metadata": {},
   "outputs": [],
   "source": [
    "print(max(lista))"
   ]
  },
  {
   "cell_type": "code",
   "execution_count": null,
   "id": "596cb1df",
   "metadata": {},
   "outputs": [],
   "source": [
    "print(min(lista))"
   ]
  },
  {
   "cell_type": "code",
   "execution_count": null,
   "id": "be8ceb6e",
   "metadata": {},
   "outputs": [],
   "source": [
    "print(sum(lista))"
   ]
  },
  {
   "cell_type": "code",
   "execution_count": null,
   "id": "8e013274",
   "metadata": {},
   "outputs": [],
   "source": [
    "#promedio de una lista\n",
    "promedio = sum(lista)/len(lista)\n",
    "print(promedio)"
   ]
  },
  {
   "cell_type": "markdown",
   "id": "1eafe59a",
   "metadata": {},
   "source": [
    "Lista = Conjunto de datos\n",
    "Cadena = Secuencia de caracteres"
   ]
  },
  {
   "cell_type": "code",
   "execution_count": null,
   "id": "b9d5efe8",
   "metadata": {},
   "outputs": [],
   "source": [
    "#Para converit una secuencia de caracteres en una lista de caracteres\n",
    "s = \"spam\"\n",
    "t = list(s)\n",
    "t"
   ]
  },
  {
   "cell_type": "code",
   "execution_count": null,
   "id": "5fda5789",
   "metadata": {},
   "outputs": [],
   "source": [
    "s = \"Aprendiendo Machine Learning\"\n",
    "t = s.split()\n",
    "t"
   ]
  },
  {
   "cell_type": "code",
   "execution_count": null,
   "id": "7e6dc9d4",
   "metadata": {},
   "outputs": [],
   "source": [
    "s = \"Aprendiendo|Machine|Learning\"\n",
    "delimitador = \"|\"\n",
    "t = s.split(delimitador)\n",
    "t"
   ]
  },
  {
   "cell_type": "code",
   "execution_count": null,
   "id": "75774261",
   "metadata": {},
   "outputs": [],
   "source": [
    "t = ['Aprendiendo', 'Machine', 'Learning']\n",
    "delimitador = ' '\n",
    "delimitador.join(t)"
   ]
  }
 ],
 "metadata": {
  "kernelspec": {
   "display_name": "Python 3 (ipykernel)",
   "language": "python",
   "name": "python3"
  },
  "language_info": {
   "codemirror_mode": {
    "name": "ipython",
    "version": 3
   },
   "file_extension": ".py",
   "mimetype": "text/x-python",
   "name": "python",
   "nbconvert_exporter": "python",
   "pygments_lexer": "ipython3",
   "version": "3.8.10"
  }
 },
 "nbformat": 4,
 "nbformat_minor": 5
}
