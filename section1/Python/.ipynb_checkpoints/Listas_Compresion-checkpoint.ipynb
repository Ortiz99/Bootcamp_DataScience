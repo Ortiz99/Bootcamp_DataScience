{
 "cells": [
  {
   "cell_type": "code",
   "execution_count": 1,
   "id": "da9cf0a7",
   "metadata": {},
   "outputs": [],
   "source": [
    "ciudades_1 = [\"Bogotá\", \"Cali\", \"Medellin\"]\n",
    "ciudades_2 = [\"Barranquilla\", \"Santa Marta\", \"Cartagena\"]"
   ]
  },
  {
   "cell_type": "code",
   "execution_count": 5,
   "id": "bcacbd83",
   "metadata": {},
   "outputs": [],
   "source": [
    "new_city = []\n",
    "for city in ciudades_1:\n",
    "    new_city.append(city + \" Es una ciudad de Colombia\")"
   ]
  },
  {
   "cell_type": "code",
   "execution_count": 11,
   "id": "d873c8b7",
   "metadata": {},
   "outputs": [],
   "source": [
    "new_city.clear()"
   ]
  },
  {
   "cell_type": "code",
   "execution_count": 12,
   "id": "d2a2c21a",
   "metadata": {},
   "outputs": [],
   "source": [
    "new_city = [city + \" Es una ciudad de Colombia\" for city in ciudades_1]"
   ]
  },
  {
   "cell_type": "code",
   "execution_count": 13,
   "id": "6e9136d8",
   "metadata": {},
   "outputs": [
    {
     "data": {
      "text/plain": [
       "['Bogotá Es una ciudad de Colombia',\n",
       " 'Cali Es una ciudad de Colombia',\n",
       " 'Medellin Es una ciudad de Colombia']"
      ]
     },
     "execution_count": 13,
     "metadata": {},
     "output_type": "execute_result"
    }
   ],
   "source": [
    "new_city"
   ]
  },
  {
   "cell_type": "code",
   "execution_count": 14,
   "id": "cd55c5be",
   "metadata": {},
   "outputs": [],
   "source": [
    "new_city.clear()"
   ]
  },
  {
   "cell_type": "code",
   "execution_count": 17,
   "id": "f5dbd5ec",
   "metadata": {},
   "outputs": [],
   "source": [
    "new_city = [city + \" Tiene mas de 5 letras\" if len(city) > 6 else city + \" Tiene menos e 5 letras\" for city in ciudades_1]"
   ]
  },
  {
   "cell_type": "code",
   "execution_count": 18,
   "id": "be9f80fc",
   "metadata": {},
   "outputs": [
    {
     "data": {
      "text/plain": [
       "['Bogotá Tiene menos e 5 letras',\n",
       " 'Cali Tiene menos e 5 letras',\n",
       " 'Medellin Tiene mas de 5 letras']"
      ]
     },
     "execution_count": 18,
     "metadata": {},
     "output_type": "execute_result"
    }
   ],
   "source": [
    "new_city\n"
   ]
  },
  {
   "cell_type": "code",
   "execution_count": null,
   "id": "8c980fc2",
   "metadata": {},
   "outputs": [],
   "source": []
  }
 ],
 "metadata": {
  "kernelspec": {
   "display_name": "Python 3 (ipykernel)",
   "language": "python",
   "name": "python3"
  },
  "language_info": {
   "codemirror_mode": {
    "name": "ipython",
    "version": 3
   },
   "file_extension": ".py",
   "mimetype": "text/x-python",
   "name": "python",
   "nbconvert_exporter": "python",
   "pygments_lexer": "ipython3",
   "version": "3.8.8"
  }
 },
 "nbformat": 4,
 "nbformat_minor": 5
}
