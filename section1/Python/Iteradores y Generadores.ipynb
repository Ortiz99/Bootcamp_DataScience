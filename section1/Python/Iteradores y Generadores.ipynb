{
 "cells": [
  {
   "cell_type": "markdown",
   "id": "ccca1734",
   "metadata": {},
   "source": [
    "## Generadores\n",
    "Un generador siempre es un iterador, pero un iterador no siempre es un generador"
   ]
  },
  {
   "cell_type": "code",
   "execution_count": 13,
   "id": "a4b6e8de",
   "metadata": {},
   "outputs": [],
   "source": [
    "def odd_numbers(nums):\n",
    "    aux = []\n",
    "    for i in nums:\n",
    "        if i%2 == 0:\n",
    "            aux.append(i)\n",
    "    return aux"
   ]
  },
  {
   "cell_type": "code",
   "execution_count": 14,
   "id": "b11a7bc3",
   "metadata": {},
   "outputs": [],
   "source": [
    "numeros = [0,1,2,3,4,5,6,7,8,9,10]"
   ]
  },
  {
   "cell_type": "code",
   "execution_count": 15,
   "id": "282182f1",
   "metadata": {},
   "outputs": [
    {
     "data": {
      "text/plain": [
       "[0, 2, 4, 6, 8, 10]"
      ]
     },
     "execution_count": 15,
     "metadata": {},
     "output_type": "execute_result"
    }
   ],
   "source": [
    "odd_numbers(numeros)"
   ]
  },
  {
   "cell_type": "code",
   "execution_count": 18,
   "id": "c23d5400",
   "metadata": {},
   "outputs": [],
   "source": [
    "#Un generador va guardando la secuencia en cada proceso iterativo por medio de yield\n",
    "#Función Generador\n",
    "def odd_numbers_generator(nums):\n",
    "    aux = []\n",
    "    for i in nums:\n",
    "        if i%2 == 0:\n",
    "            yield i"
   ]
  },
  {
   "cell_type": "code",
   "execution_count": 24,
   "id": "bd06cf9a",
   "metadata": {},
   "outputs": [
    {
     "name": "stdout",
     "output_type": "stream",
     "text": [
      "0\n",
      "2\n"
     ]
    }
   ],
   "source": [
    "odd = odd_numbers_generator(numeros)\n",
    "print(next(odd))\n",
    "print(next(odd))"
   ]
  },
  {
   "cell_type": "code",
   "execution_count": 29,
   "id": "81d4b3b0",
   "metadata": {},
   "outputs": [
    {
     "name": "stdout",
     "output_type": "stream",
     "text": [
      "False\n",
      "True\n",
      "False\n",
      "True\n",
      "False\n",
      "True\n",
      "False\n",
      "True\n",
      "False\n",
      "True\n",
      "False\n"
     ]
    }
   ],
   "source": [
    "odd = (i % 2 == 1 for i in numeros)\n",
    "\n",
    "for i in odd:\n",
    "    print(i)"
   ]
  },
  {
   "cell_type": "code",
   "execution_count": null,
   "id": "a46a1f0c",
   "metadata": {},
   "outputs": [],
   "source": []
  }
 ],
 "metadata": {
  "kernelspec": {
   "display_name": "Python 3 (ipykernel)",
   "language": "python",
   "name": "python3"
  },
  "language_info": {
   "codemirror_mode": {
    "name": "ipython",
    "version": 3
   },
   "file_extension": ".py",
   "mimetype": "text/x-python",
   "name": "python",
   "nbconvert_exporter": "python",
   "pygments_lexer": "ipython3",
   "version": "3.8.8"
  }
 },
 "nbformat": 4,
 "nbformat_minor": 5
}
