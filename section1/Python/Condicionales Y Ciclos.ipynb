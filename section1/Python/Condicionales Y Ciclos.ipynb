{
 "cells": [
  {
   "cell_type": "code",
   "execution_count": 1,
   "id": "587cb998",
   "metadata": {},
   "outputs": [],
   "source": [
    "x = 5"
   ]
  },
  {
   "cell_type": "code",
   "execution_count": 2,
   "id": "d27ea7b8",
   "metadata": {},
   "outputs": [
    {
     "name": "stdout",
     "output_type": "stream",
     "text": [
      "5\n"
     ]
    }
   ],
   "source": [
    "if x > 0:\n",
    "    print(x)"
   ]
  },
  {
   "cell_type": "code",
   "execution_count": 4,
   "id": "be1eae87",
   "metadata": {},
   "outputs": [
    {
     "name": "stdout",
     "output_type": "stream",
     "text": [
      "par\n"
     ]
    }
   ],
   "source": [
    "#Par o Impar\n",
    "x = 10\n",
    "\n",
    "if x%2 == 0:\n",
    "    print('par')\n",
    "else:\n",
    "    print('impar')"
   ]
  },
  {
   "cell_type": "code",
   "execution_count": 7,
   "id": "ce000c67",
   "metadata": {},
   "outputs": [],
   "source": [
    "x = 6\n",
    "y = 6"
   ]
  },
  {
   "cell_type": "code",
   "execution_count": 8,
   "id": "ad859fcd",
   "metadata": {},
   "outputs": [
    {
     "name": "stdout",
     "output_type": "stream",
     "text": [
      "iguales\n"
     ]
    }
   ],
   "source": [
    "if x < y:\n",
    "    print('x menor a y')\n",
    "elif x > y:\n",
    "    print('x mayor a y')\n",
    "else:\n",
    "    print('iguales')"
   ]
  },
  {
   "cell_type": "code",
   "execution_count": null,
   "id": "72f11024",
   "metadata": {},
   "outputs": [],
   "source": []
  }
 ],
 "metadata": {
  "kernelspec": {
   "display_name": "Python 3 (ipykernel)",
   "language": "python",
   "name": "python3"
  },
  "language_info": {
   "codemirror_mode": {
    "name": "ipython",
    "version": 3
   },
   "file_extension": ".py",
   "mimetype": "text/x-python",
   "name": "python",
   "nbconvert_exporter": "python",
   "pygments_lexer": "ipython3",
   "version": "3.8.8"
  }
 },
 "nbformat": 4,
 "nbformat_minor": 5
}
