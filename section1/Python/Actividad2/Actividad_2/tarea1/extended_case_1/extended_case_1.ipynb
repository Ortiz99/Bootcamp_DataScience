{
 "cells": [
  {
   "cell_type": "markdown",
   "metadata": {},
   "source": [
    "# ¿Cómo podemos controlar el creciente número de accidentes en Nueva York?"
   ]
  },
  {
   "cell_type": "code",
   "execution_count": 1,
   "metadata": {},
   "outputs": [],
   "source": [
    "import json\n",
    "import requests\n",
    "from bs4 import BeautifulSoup\n",
    "import pandas as pd\n",
    "import matplotlib.pyplot as plt\n",
    "import seaborn as sns\n",
    "import numpy"
   ]
  },
  {
   "cell_type": "markdown",
   "metadata": {},
   "source": [
    "## Introduccion"
   ]
  },
  {
   "cell_type": "markdown",
   "metadata": {},
   "source": [
    "**Contexto empresarial.** La ciudad de Nueva York ha experimentado un aumento en el número de accidentes en las carreteras de la ciudad. Quieren saber si el número de accidentes ha aumentado en las últimas semanas. Para todos los accidentes reportados, han recopilado detalles para cada accidente y han estado manteniendo registros durante el último año y medio (desde enero de 2018 hasta agosto de 2019).\n",
    "\n",
    "La ciudad te ha contratado para que construyas visualizaciones que les ayuden a identificar patrones en accidentes, lo que les ayudaría a tomar acciones preventivas para reducir la cantidad de accidentes en el futuro. Tienen ciertos parámetros como municipio, hora del día, motivo del accidente, etc. De los que se preocupan y de los que les gustaría obtener información específica."
   ]
  },
  {
   "cell_type": "markdown",
   "metadata": {},
   "source": [
    "**Problema comercial.** Su tarea es formatear los datos proporcionados y proporcionar visualizaciones que respondan las preguntas específicas que tiene el cliente, que se mencionan a continuación."
   ]
  },
  {
   "cell_type": "markdown",
   "metadata": {},
   "source": [
    "**Contexto analítico.** Se le proporciona un archivo CSV (almacenado en la carpeta ```datos``` ya creada) que contiene detalles sobre cada accidente, como fecha, hora, ubicación del accidente, motivo del accidente, tipos de vehículos involucrados, recuento de lesiones y muertes, etc. El delimitador en el archivo CSV dado es `;` en lugar del predeterminado `,`. Realizará las siguientes tareas con los datos:\n",
    "\n",
    "1. Extraiga datos adicionales del municipio almacenados en un archivo JSON\n",
    "2. Leer, transformar y preparar datos para su visualización\n",
    "3. Realizar análisis y construir visualizaciones de los datos para identificar patrones en el conjunto de datos.\n",
    "        \n",
    "El cliente tiene un conjunto específico de preguntas a las que le gustaría obtener respuestas. Deberá proporcionar visualizaciones para acompañar estos:\n",
    "\n",
    "1. ¿Cómo ha fluctuado el número de accidentes durante el último año y medio? ¿Han aumentado con el tiempo?\n",
    "2. Para un día en particular, ¿durante qué horas es más probable que ocurran accidentes?\n",
    "3. ¿Hay más accidentes entre semana que durante los fines de semana?\n",
    "4. ¿Cuál es la proporción de recuento de accidentes por área por municipio? ¿Qué distritos tienen un número desproporcionadamente grande de accidentes para su tamaño?\n",
    "5. Para cada municipio, ¿durante qué horas es más probable que ocurran accidentes?\n",
    "6. ¿Cuáles son las 5 principales causas de accidentes en la ciudad?\n",
    "7. ¿Qué tipos de vehículos están más involucrados en accidentes por municipio?\n",
    "8. ¿Qué tipos de vehículos están más involucrados en las muertes?"
   ]
  },
  {
   "cell_type": "markdown",
   "metadata": {},
   "source": [
    "## Obteniendo los datos relevantes"
   ]
  },
  {
   "cell_type": "markdown",
   "metadata": {},
   "source": [
    "El cliente ha solicitado un análisis de la relación accidentes-área de los distritos. Los datos del municipio se almacenan en un archivo JSON en la carpeta ```datos```."
   ]
  },
  {
   "cell_type": "markdown",
   "metadata": {},
   "source": [
    "### Question (5 min):\n",
    "\n",
    "Utilice la función ```json.load()``` para cargar el archivo ```borough_data.json``` como diccionario."
   ]
  },
  {
   "cell_type": "markdown",
   "metadata": {},
   "source": [
    "**Answer.** "
   ]
  },
  {
   "cell_type": "code",
   "execution_count": 2,
   "metadata": {},
   "outputs": [
    {
     "data": {
      "text/plain": [
       "{'the bronx': {'name': 'the bronx', 'population': 1471160.0, 'area': 42.1},\n",
       " 'brooklyn': {'name': 'brooklyn', 'population': 2648771.0, 'area': 70.82},\n",
       " 'manhattan': {'name': 'manhattan', 'population': 1664727.0, 'area': 22.83},\n",
       " 'queens': {'name': 'queens', 'population': 2358582.0, 'area': 108.53},\n",
       " 'staten island': {'name': 'staten island',\n",
       "  'population': 479458.0,\n",
       "  'area': 58.37}}"
      ]
     },
     "execution_count": 2,
     "metadata": {},
     "output_type": "execute_result"
    }
   ],
   "source": [
    "with open('data/borough_data.json') as f:\n",
    "    borough_data=json.load(f)\n",
    "    \n",
    "borough_data"
   ]
  },
  {
   "cell_type": "markdown",
   "metadata": {},
   "source": [
    "### Question (5 min):\n",
    "De manera similar, use la función pandas ```read_csv()``` para cargar el archivo ```accidentes.csv``` como un DataFrame. Nombra este DataFrame ```df```.\n"
   ]
  },
  {
   "cell_type": "markdown",
   "metadata": {},
   "source": [
    "**Answer.** "
   ]
  },
  {
   "cell_type": "code",
   "execution_count": 3,
   "metadata": {},
   "outputs": [],
   "source": [
    "with open('data/accidents.csv') as f:\n",
    "    df=pd.read_csv(f, delimiter=';')"
   ]
  },
  {
   "cell_type": "code",
   "execution_count": 4,
   "metadata": {},
   "outputs": [
    {
     "data": {
      "text/html": [
       "<div>\n",
       "<style scoped>\n",
       "    .dataframe tbody tr th:only-of-type {\n",
       "        vertical-align: middle;\n",
       "    }\n",
       "\n",
       "    .dataframe tbody tr th {\n",
       "        vertical-align: top;\n",
       "    }\n",
       "\n",
       "    .dataframe thead th {\n",
       "        text-align: right;\n",
       "    }\n",
       "</style>\n",
       "<table border=\"1\" class=\"dataframe\">\n",
       "  <thead>\n",
       "    <tr style=\"text-align: right;\">\n",
       "      <th></th>\n",
       "      <th>DATE</th>\n",
       "      <th>TIME</th>\n",
       "      <th>BOROUGH</th>\n",
       "      <th>ZIP CODE</th>\n",
       "      <th>LATITUDE</th>\n",
       "      <th>LONGITUDE</th>\n",
       "      <th>ON STREET NAME</th>\n",
       "      <th>NUMBER OF PEDESTRIANS INJURED</th>\n",
       "      <th>NUMBER OF PEDESTRIANS KILLED</th>\n",
       "      <th>NUMBER OF CYCLIST INJURED</th>\n",
       "      <th>...</th>\n",
       "      <th>CONTRIBUTING FACTOR VEHICLE 2</th>\n",
       "      <th>CONTRIBUTING FACTOR VEHICLE 3</th>\n",
       "      <th>CONTRIBUTING FACTOR VEHICLE 4</th>\n",
       "      <th>CONTRIBUTING FACTOR VEHICLE 5</th>\n",
       "      <th>COLLISION_ID</th>\n",
       "      <th>VEHICLE TYPE CODE 1</th>\n",
       "      <th>VEHICLE TYPE CODE 2</th>\n",
       "      <th>VEHICLE TYPE CODE 3</th>\n",
       "      <th>VEHICLE TYPE CODE 4</th>\n",
       "      <th>VEHICLE TYPE CODE 5</th>\n",
       "    </tr>\n",
       "  </thead>\n",
       "  <tbody>\n",
       "    <tr>\n",
       "      <th>73475</th>\n",
       "      <td>04/27/2019</td>\n",
       "      <td>3:36</td>\n",
       "      <td>BRONX</td>\n",
       "      <td>10459.0</td>\n",
       "      <td>40.821415</td>\n",
       "      <td>-73.88933</td>\n",
       "      <td>FAILE STREET</td>\n",
       "      <td>0</td>\n",
       "      <td>0</td>\n",
       "      <td>0</td>\n",
       "      <td>...</td>\n",
       "      <td>Unspecified</td>\n",
       "      <td>Unspecified</td>\n",
       "      <td>NaN</td>\n",
       "      <td>NaN</td>\n",
       "      <td>4121272</td>\n",
       "      <td>Sedan</td>\n",
       "      <td>Station Wagon/Sport Utility Vehicle</td>\n",
       "      <td>Sedan</td>\n",
       "      <td>NaN</td>\n",
       "      <td>NaN</td>\n",
       "    </tr>\n",
       "  </tbody>\n",
       "</table>\n",
       "<p>1 rows × 24 columns</p>\n",
       "</div>"
      ],
      "text/plain": [
       "             DATE  TIME BOROUGH  ZIP CODE   LATITUDE  LONGITUDE  \\\n",
       "73475  04/27/2019  3:36   BRONX   10459.0  40.821415  -73.88933   \n",
       "\n",
       "                         ON STREET NAME  NUMBER OF PEDESTRIANS INJURED  \\\n",
       "73475  FAILE STREET                                                  0   \n",
       "\n",
       "       NUMBER OF PEDESTRIANS KILLED  NUMBER OF CYCLIST INJURED  ...  \\\n",
       "73475                             0                          0  ...   \n",
       "\n",
       "       CONTRIBUTING FACTOR VEHICLE 2  CONTRIBUTING FACTOR VEHICLE 3  \\\n",
       "73475                    Unspecified                    Unspecified   \n",
       "\n",
       "       CONTRIBUTING FACTOR VEHICLE 4 CONTRIBUTING FACTOR VEHICLE 5  \\\n",
       "73475                            NaN                           NaN   \n",
       "\n",
       "      COLLISION_ID VEHICLE TYPE CODE 1                  VEHICLE TYPE CODE 2  \\\n",
       "73475      4121272               Sedan  Station Wagon/Sport Utility Vehicle   \n",
       "\n",
       "      VEHICLE TYPE CODE 3  VEHICLE TYPE CODE 4 VEHICLE TYPE CODE 5  \n",
       "73475               Sedan                  NaN                 NaN  \n",
       "\n",
       "[1 rows x 24 columns]"
      ]
     },
     "execution_count": 4,
     "metadata": {},
     "output_type": "execute_result"
    }
   ],
   "source": [
    "df.head(20)\n",
    "df.tail(20)\n",
    "df.sample(1)"
   ]
  },
  {
   "cell_type": "markdown",
   "metadata": {},
   "source": [
    "## Overview de la data"
   ]
  },
  {
   "cell_type": "markdown",
   "metadata": {},
   "source": [
    "Analizemos las columnas presentes en el data frame"
   ]
  },
  {
   "cell_type": "code",
   "execution_count": 5,
   "metadata": {
    "scrolled": true
   },
   "outputs": [
    {
     "data": {
      "text/plain": [
       "Index(['DATE', 'TIME', 'BOROUGH', 'ZIP CODE', 'LATITUDE', 'LONGITUDE',\n",
       "       'ON STREET NAME', 'NUMBER OF PEDESTRIANS INJURED',\n",
       "       'NUMBER OF PEDESTRIANS KILLED', 'NUMBER OF CYCLIST INJURED',\n",
       "       'NUMBER OF CYCLIST KILLED', 'NUMBER OF MOTORIST INJURED',\n",
       "       'NUMBER OF MOTORIST KILLED', 'CONTRIBUTING FACTOR VEHICLE 1',\n",
       "       'CONTRIBUTING FACTOR VEHICLE 2', 'CONTRIBUTING FACTOR VEHICLE 3',\n",
       "       'CONTRIBUTING FACTOR VEHICLE 4', 'CONTRIBUTING FACTOR VEHICLE 5',\n",
       "       'COLLISION_ID', 'VEHICLE TYPE CODE 1', 'VEHICLE TYPE CODE 2',\n",
       "       'VEHICLE TYPE CODE 3', 'VEHICLE TYPE CODE 4', 'VEHICLE TYPE CODE 5'],\n",
       "      dtype='object')"
      ]
     },
     "execution_count": 5,
     "metadata": {},
     "output_type": "execute_result"
    }
   ],
   "source": [
    "df.columns"
   ]
  },
  {
   "cell_type": "code",
   "execution_count": 6,
   "metadata": {},
   "outputs": [
    {
     "name": "stdout",
     "output_type": "stream",
     "text": [
      "<class 'pandas.core.frame.DataFrame'>\n",
      "RangeIndex: 238522 entries, 0 to 238521\n",
      "Data columns (total 24 columns):\n",
      " #   Column                         Non-Null Count   Dtype  \n",
      "---  ------                         --------------   -----  \n",
      " 0   DATE                           238522 non-null  object \n",
      " 1   TIME                           238522 non-null  object \n",
      " 2   BOROUGH                        238522 non-null  object \n",
      " 3   ZIP CODE                       238452 non-null  float64\n",
      " 4   LATITUDE                       231544 non-null  float64\n",
      " 5   LONGITUDE                      231544 non-null  float64\n",
      " 6   ON STREET NAME                 153918 non-null  object \n",
      " 7   NUMBER OF PEDESTRIANS INJURED  238522 non-null  int64  \n",
      " 8   NUMBER OF PEDESTRIANS KILLED   238522 non-null  int64  \n",
      " 9   NUMBER OF CYCLIST INJURED      238522 non-null  int64  \n",
      " 10  NUMBER OF CYCLIST KILLED       238522 non-null  int64  \n",
      " 11  NUMBER OF MOTORIST INJURED     238522 non-null  int64  \n",
      " 12  NUMBER OF MOTORIST KILLED      238522 non-null  int64  \n",
      " 13  CONTRIBUTING FACTOR VEHICLE 1  237638 non-null  object \n",
      " 14  CONTRIBUTING FACTOR VEHICLE 2  198514 non-null  object \n",
      " 15  CONTRIBUTING FACTOR VEHICLE 3  13072 non-null   object \n",
      " 16  CONTRIBUTING FACTOR VEHICLE 4  2856 non-null    object \n",
      " 17  CONTRIBUTING FACTOR VEHICLE 5  792 non-null     object \n",
      " 18  COLLISION_ID                   238522 non-null  int64  \n",
      " 19  VEHICLE TYPE CODE 1            236801 non-null  object \n",
      " 20  VEHICLE TYPE CODE 2            182932 non-null  object \n",
      " 21  VEHICLE TYPE CODE 3            12301 non-null   object \n",
      " 22  VEHICLE TYPE CODE 4            2716 non-null    object \n",
      " 23  VEHICLE TYPE CODE 5            753 non-null     object \n",
      "dtypes: float64(3), int64(7), object(14)\n",
      "memory usage: 43.7+ MB\n"
     ]
    }
   ],
   "source": [
    "df.info()"
   ]
  },
  {
   "cell_type": "code",
   "execution_count": 7,
   "metadata": {},
   "outputs": [
    {
     "data": {
      "text/html": [
       "<div>\n",
       "<style scoped>\n",
       "    .dataframe tbody tr th:only-of-type {\n",
       "        vertical-align: middle;\n",
       "    }\n",
       "\n",
       "    .dataframe tbody tr th {\n",
       "        vertical-align: top;\n",
       "    }\n",
       "\n",
       "    .dataframe thead th {\n",
       "        text-align: right;\n",
       "    }\n",
       "</style>\n",
       "<table border=\"1\" class=\"dataframe\">\n",
       "  <thead>\n",
       "    <tr style=\"text-align: right;\">\n",
       "      <th></th>\n",
       "      <th>ZIP CODE</th>\n",
       "      <th>LATITUDE</th>\n",
       "      <th>LONGITUDE</th>\n",
       "      <th>NUMBER OF PEDESTRIANS INJURED</th>\n",
       "      <th>NUMBER OF PEDESTRIANS KILLED</th>\n",
       "      <th>NUMBER OF CYCLIST INJURED</th>\n",
       "      <th>NUMBER OF CYCLIST KILLED</th>\n",
       "      <th>NUMBER OF MOTORIST INJURED</th>\n",
       "      <th>NUMBER OF MOTORIST KILLED</th>\n",
       "      <th>COLLISION_ID</th>\n",
       "    </tr>\n",
       "  </thead>\n",
       "  <tbody>\n",
       "    <tr>\n",
       "      <th>count</th>\n",
       "      <td>238452.000000</td>\n",
       "      <td>231544.000000</td>\n",
       "      <td>231544.000000</td>\n",
       "      <td>238522.000000</td>\n",
       "      <td>238522.000000</td>\n",
       "      <td>238522.000000</td>\n",
       "      <td>238522.000000</td>\n",
       "      <td>238522.000000</td>\n",
       "      <td>238522.000000</td>\n",
       "      <td>2.385220e+05</td>\n",
       "    </tr>\n",
       "    <tr>\n",
       "      <th>mean</th>\n",
       "      <td>10865.578838</td>\n",
       "      <td>40.656873</td>\n",
       "      <td>-73.797699</td>\n",
       "      <td>0.054523</td>\n",
       "      <td>0.000532</td>\n",
       "      <td>0.023482</td>\n",
       "      <td>0.000084</td>\n",
       "      <td>0.178076</td>\n",
       "      <td>0.000310</td>\n",
       "      <td>4.008044e+06</td>\n",
       "    </tr>\n",
       "    <tr>\n",
       "      <th>std</th>\n",
       "      <td>546.056571</td>\n",
       "      <td>1.632850</td>\n",
       "      <td>2.961521</td>\n",
       "      <td>0.237834</td>\n",
       "      <td>0.023250</td>\n",
       "      <td>0.152835</td>\n",
       "      <td>0.009157</td>\n",
       "      <td>0.587479</td>\n",
       "      <td>0.017848</td>\n",
       "      <td>1.084693e+05</td>\n",
       "    </tr>\n",
       "    <tr>\n",
       "      <th>min</th>\n",
       "      <td>10000.000000</td>\n",
       "      <td>0.000000</td>\n",
       "      <td>-74.253930</td>\n",
       "      <td>0.000000</td>\n",
       "      <td>0.000000</td>\n",
       "      <td>0.000000</td>\n",
       "      <td>0.000000</td>\n",
       "      <td>0.000000</td>\n",
       "      <td>0.000000</td>\n",
       "      <td>3.511951e+06</td>\n",
       "    </tr>\n",
       "    <tr>\n",
       "      <th>25%</th>\n",
       "      <td>10452.000000</td>\n",
       "      <td>40.666750</td>\n",
       "      <td>-73.973860</td>\n",
       "      <td>0.000000</td>\n",
       "      <td>0.000000</td>\n",
       "      <td>0.000000</td>\n",
       "      <td>0.000000</td>\n",
       "      <td>0.000000</td>\n",
       "      <td>0.000000</td>\n",
       "      <td>3.913739e+06</td>\n",
       "    </tr>\n",
       "    <tr>\n",
       "      <th>50%</th>\n",
       "      <td>11208.000000</td>\n",
       "      <td>40.717007</td>\n",
       "      <td>-73.922770</td>\n",
       "      <td>0.000000</td>\n",
       "      <td>0.000000</td>\n",
       "      <td>0.000000</td>\n",
       "      <td>0.000000</td>\n",
       "      <td>0.000000</td>\n",
       "      <td>0.000000</td>\n",
       "      <td>4.006476e+06</td>\n",
       "    </tr>\n",
       "    <tr>\n",
       "      <th>75%</th>\n",
       "      <td>11354.000000</td>\n",
       "      <td>40.765715</td>\n",
       "      <td>-73.864890</td>\n",
       "      <td>0.000000</td>\n",
       "      <td>0.000000</td>\n",
       "      <td>0.000000</td>\n",
       "      <td>0.000000</td>\n",
       "      <td>0.000000</td>\n",
       "      <td>0.000000</td>\n",
       "      <td>4.102648e+06</td>\n",
       "    </tr>\n",
       "    <tr>\n",
       "      <th>max</th>\n",
       "      <td>11697.000000</td>\n",
       "      <td>40.912884</td>\n",
       "      <td>0.000000</td>\n",
       "      <td>6.000000</td>\n",
       "      <td>2.000000</td>\n",
       "      <td>3.000000</td>\n",
       "      <td>1.000000</td>\n",
       "      <td>21.000000</td>\n",
       "      <td>2.000000</td>\n",
       "      <td>4.195347e+06</td>\n",
       "    </tr>\n",
       "  </tbody>\n",
       "</table>\n",
       "</div>"
      ],
      "text/plain": [
       "            ZIP CODE       LATITUDE      LONGITUDE  \\\n",
       "count  238452.000000  231544.000000  231544.000000   \n",
       "mean    10865.578838      40.656873     -73.797699   \n",
       "std       546.056571       1.632850       2.961521   \n",
       "min     10000.000000       0.000000     -74.253930   \n",
       "25%     10452.000000      40.666750     -73.973860   \n",
       "50%     11208.000000      40.717007     -73.922770   \n",
       "75%     11354.000000      40.765715     -73.864890   \n",
       "max     11697.000000      40.912884       0.000000   \n",
       "\n",
       "       NUMBER OF PEDESTRIANS INJURED  NUMBER OF PEDESTRIANS KILLED  \\\n",
       "count                  238522.000000                 238522.000000   \n",
       "mean                        0.054523                      0.000532   \n",
       "std                         0.237834                      0.023250   \n",
       "min                         0.000000                      0.000000   \n",
       "25%                         0.000000                      0.000000   \n",
       "50%                         0.000000                      0.000000   \n",
       "75%                         0.000000                      0.000000   \n",
       "max                         6.000000                      2.000000   \n",
       "\n",
       "       NUMBER OF CYCLIST INJURED  NUMBER OF CYCLIST KILLED  \\\n",
       "count              238522.000000             238522.000000   \n",
       "mean                    0.023482                  0.000084   \n",
       "std                     0.152835                  0.009157   \n",
       "min                     0.000000                  0.000000   \n",
       "25%                     0.000000                  0.000000   \n",
       "50%                     0.000000                  0.000000   \n",
       "75%                     0.000000                  0.000000   \n",
       "max                     3.000000                  1.000000   \n",
       "\n",
       "       NUMBER OF MOTORIST INJURED  NUMBER OF MOTORIST KILLED  COLLISION_ID  \n",
       "count               238522.000000              238522.000000  2.385220e+05  \n",
       "mean                     0.178076                   0.000310  4.008044e+06  \n",
       "std                      0.587479                   0.017848  1.084693e+05  \n",
       "min                      0.000000                   0.000000  3.511951e+06  \n",
       "25%                      0.000000                   0.000000  3.913739e+06  \n",
       "50%                      0.000000                   0.000000  4.006476e+06  \n",
       "75%                      0.000000                   0.000000  4.102648e+06  \n",
       "max                     21.000000                   2.000000  4.195347e+06  "
      ]
     },
     "execution_count": 7,
     "metadata": {},
     "output_type": "execute_result"
    }
   ],
   "source": [
    "df.describe()"
   ]
  },
  {
   "cell_type": "markdown",
   "metadata": {},
   "source": [
    "Tenemos las siguientes columnas\n",
    "\n",
    "1. **BOROUGH**: el municipio en el que ocurrió el accidente\n",
    "2. **COLLISION_ID**: un identificador único para esta colisión\n",
    "3. **CONTRIBUTING FACTOR VEHICLE (1, 2, 3, 4, 5)**: Motivos del accidente\n",
    "4. **CROSS STREET NAME**: Calle transversal más cercana al lugar del accidente\n",
    "5. **DATE**: Fecha del accidente\n",
    "6. **TIME**: Hora del accidente\n",
    "7. **LATITUDE**: Latitud del accidente\n",
    "8. **LONGITUDE**: Longitud del accidente\n",
    "9. **NUMBER OF (CYCLISTS, MOTORISTS, PEDESTRIANS) INJURED**: Lesión por categoría\n",
    "10. **NUMBER OF (CYCLISTS, MOTORISTS, PEDESTRIANS) DEATHS**: Categoría muerte sabia\n",
    "11. **ON STREET NAME**: Calle donde ocurrió el accidente\n",
    "13. **VEHICLE TYPE CODE(1, 2, 3, 4, 5)**: Tipos de vehículos involucrados en el accidente\n",
    "14. **ZIP CODE**: código postal del lugar del accidente"
   ]
  },
  {
   "cell_type": "markdown",
   "metadata": {},
   "source": [
    "### Exercise 1 (30 min):\n",
    "\n",
    "Desde 2014, la ciudad de Nueva York ha estado implementando un plan de seguridad vial llamado [Vision Zero](https://www1.nyc.gov/content/visionzero/pages/). Su objetivo es reducir el número de muertes por accidentes de tránsito a *cero* para fines de 2024. El plan está creando nuevas y mejorando las medidas de seguridad actuales, algunas de ellas incluyen:\n",
    "\n",
    "- [ ] Detección de peatones automatizada\n",
    "- [X] Auditorías de seguridad vial en lugares de alto riesgo\n",
    "- [ ] Ampliación de la red de carriles bici\n",
    "- [ ] Iniciativas específicas de educación y sensibilización\n",
    "- [ ] Creación de islas de refugio peatonal\n",
    "- [X] Lanzamiento del programa integrado de reductor de velocidad basado en datos (topes y amortiguadores de velocidad)\n",
    "\n",
    "¿Cuáles de estas iniciativas podrían beneficiarse directamente de un análisis de los datos proporcionados? Marque todo lo que corresponda.\n",
    "\n",
    "**Nota:** Puede crear marcas de verificación haciendo doble clic en esta celda y agregando una ```[x]``` en las líneas correspondientes."
   ]
  },
  {
   "cell_type": "markdown",
   "metadata": {},
   "source": [
    "**Answer.**\n",
    "\n",
    "- [ ] Detecciòn de peatones automatizada\n",
    "\n",
    "\n",
    "- [ ] Auditorías de seguridadvial en lugares de alto riesgo\n",
    "\n",
    "- [ ] Ampliación de la red de carriles bici\n",
    "\n",
    "- [ ] Iniciativas especificas de educación y sensibilización\n",
    "\n",
    "- [ ] Creación de islas de refugio peatonal\n",
    "\n",
    "- [ ] Lanzamiento del programa integrado de reductor de velocidad en datos (topes y amortiguadores de velocidad)\n"
   ]
  },
  {
   "cell_type": "markdown",
   "metadata": {},
   "source": [
    "Sigamos adelante y respondamos a cada una de las preguntas del cliente."
   ]
  },
  {
   "cell_type": "markdown",
   "metadata": {},
   "source": [
    "## Respondiendo las preguntas del cliente "
   ]
  },
  {
   "cell_type": "markdown",
   "metadata": {},
   "source": [
    "### Exercise 2 (30 min):\n",
    "\n",
    "Agrupe los datos disponibles mensualmente y genere un line plot de accidentes a lo largo del tiempo. ¿Ha aumentado el número de accidentes durante el último año y medio?\n",
    "\n",
    "**Sugerencia**: Puede encontrar útiles las funciones de pandas ```to_datetime ()``` y ```dt.to_period ()```."
   ]
  },
  {
   "cell_type": "markdown",
   "metadata": {},
   "source": [
    "**Answer.** "
   ]
  },
  {
   "cell_type": "code",
   "execution_count": 8,
   "metadata": {},
   "outputs": [],
   "source": [
    "accidentes_mensuales = df[\"DATE\"] = pd.to_datetime(df[\"DATE\"])"
   ]
  },
  {
   "cell_type": "code",
   "execution_count": 9,
   "metadata": {},
   "outputs": [
    {
     "name": "stdout",
     "output_type": "stream",
     "text": [
      "<class 'pandas.core.frame.DataFrame'>\n",
      "RangeIndex: 238522 entries, 0 to 238521\n",
      "Data columns (total 24 columns):\n",
      " #   Column                         Non-Null Count   Dtype         \n",
      "---  ------                         --------------   -----         \n",
      " 0   DATE                           238522 non-null  datetime64[ns]\n",
      " 1   TIME                           238522 non-null  object        \n",
      " 2   BOROUGH                        238522 non-null  object        \n",
      " 3   ZIP CODE                       238452 non-null  float64       \n",
      " 4   LATITUDE                       231544 non-null  float64       \n",
      " 5   LONGITUDE                      231544 non-null  float64       \n",
      " 6   ON STREET NAME                 153918 non-null  object        \n",
      " 7   NUMBER OF PEDESTRIANS INJURED  238522 non-null  int64         \n",
      " 8   NUMBER OF PEDESTRIANS KILLED   238522 non-null  int64         \n",
      " 9   NUMBER OF CYCLIST INJURED      238522 non-null  int64         \n",
      " 10  NUMBER OF CYCLIST KILLED       238522 non-null  int64         \n",
      " 11  NUMBER OF MOTORIST INJURED     238522 non-null  int64         \n",
      " 12  NUMBER OF MOTORIST KILLED      238522 non-null  int64         \n",
      " 13  CONTRIBUTING FACTOR VEHICLE 1  237638 non-null  object        \n",
      " 14  CONTRIBUTING FACTOR VEHICLE 2  198514 non-null  object        \n",
      " 15  CONTRIBUTING FACTOR VEHICLE 3  13072 non-null   object        \n",
      " 16  CONTRIBUTING FACTOR VEHICLE 4  2856 non-null    object        \n",
      " 17  CONTRIBUTING FACTOR VEHICLE 5  792 non-null     object        \n",
      " 18  COLLISION_ID                   238522 non-null  int64         \n",
      " 19  VEHICLE TYPE CODE 1            236801 non-null  object        \n",
      " 20  VEHICLE TYPE CODE 2            182932 non-null  object        \n",
      " 21  VEHICLE TYPE CODE 3            12301 non-null   object        \n",
      " 22  VEHICLE TYPE CODE 4            2716 non-null    object        \n",
      " 23  VEHICLE TYPE CODE 5            753 non-null     object        \n",
      "dtypes: datetime64[ns](1), float64(3), int64(7), object(13)\n",
      "memory usage: 43.7+ MB\n"
     ]
    }
   ],
   "source": [
    "df.info()"
   ]
  },
  {
   "cell_type": "code",
   "execution_count": 10,
   "metadata": {},
   "outputs": [],
   "source": [
    "accidentes_mensuales = df.groupby(df[\"DATE\"].dt.to_period(\"M\")).size() #Count cuenta basado en todos los registros"
   ]
  },
  {
   "cell_type": "code",
   "execution_count": 11,
   "metadata": {},
   "outputs": [],
   "source": [
    "#accidentes_mensuales.count()[\"COLLISION_ID\"]"
   ]
  },
  {
   "cell_type": "code",
   "execution_count": 13,
   "metadata": {},
   "outputs": [
    {
     "data": {
      "text/plain": [
       "<AxesSubplot:xlabel='DATE'>"
      ]
     },
     "execution_count": 13,
     "metadata": {},
     "output_type": "execute_result"
    },
    {
     "data": {
      "image/png": "[encoded data removed]",
      "text/plain": [
       "<Figure size 432x288 with 1 Axes>"
      ]
     },
     "metadata": {
      "needs_background": "light"
     },
     "output_type": "display_data"
    }
   ],
   "source": [
    "accidentes_mensuales.plot.line()"
   ]
  },
  {
   "cell_type": "markdown",
   "metadata": {},
   "source": [
    "### Exercise 3 (15 min):\n",
    "\n",
    "De la gráfica anterior, ¿qué meses parecen tener el menor número de accidentes? ¿Cuáles crees que son las razones detrás de esto?"
   ]
  },
  {
   "cell_type": "markdown",
   "metadata": {},
   "source": [
    "**Answer.** \n"
   ]
  },
  {
   "cell_type": "markdown",
   "metadata": {},
   "source": [
    "## Agosto, Enero y Febrero, corresponden a meses que preceden a las vacaciones de mitad y fin de año."
   ]
  },
  {
   "cell_type": "code",
   "execution_count": 14,
   "metadata": {},
   "outputs": [
    {
     "data": {
      "text/plain": [
       "DATE\n",
       "2018-01    11735\n",
       "2018-02    10395\n",
       "2018-03    12519\n",
       "2018-04    11679\n",
       "2018-05    13438\n",
       "2018-06    13314\n",
       "2018-07    12787\n",
       "2018-08    12644\n",
       "2018-09    12425\n",
       "2018-10    13336\n",
       "2018-11    12447\n",
       "2018-12    12479\n",
       "2019-01    11000\n",
       "2019-02    10310\n",
       "2019-03    11482\n",
       "2019-04    10833\n",
       "2019-05    12642\n",
       "2019-06    12577\n",
       "2019-07    12014\n",
       "2019-08     8466\n",
       "Freq: M, dtype: int64"
      ]
     },
     "execution_count": 14,
     "metadata": {},
     "output_type": "execute_result"
    }
   ],
   "source": [
    "accidentes_mensuales = df.groupby(df[\"DATE\"].dt.to_period(\"M\")).size() #Count cuenta basado en todos los registros\n",
    "accidentes_mensuales"
   ]
  },
  {
   "cell_type": "markdown",
   "metadata": {},
   "source": [
    "### Exercise 4 (30 min):\n",
    "¿Cómo varía el número de accidentes a lo largo de un solo día? Cree una nueva columna `HOUR` basada en los datos de la columna `TIME`, luego trace un gráfico de barras de la distribución por hora a lo largo del día.\n",
    "\n",
    "**Sugerencia:** Puede encontrar útil la función ```dt.hour```."
   ]
  },
  {
   "cell_type": "markdown",
   "metadata": {},
   "source": [
    "**Answer.**"
   ]
  },
  {
   "cell_type": "code",
   "execution_count": 42,
   "metadata": {},
   "outputs": [
    {
     "data": {
      "text/plain": [
       "<BarContainer object of 1 artists>"
      ]
     },
     "execution_count": 42,
     "metadata": {},
     "output_type": "execute_result"
    },
    {
     "data": {
      "image/png": "[encoded data removed]",
      "text/plain": [
       "<Figure size 432x288 with 1 Axes>"
      ]
     },
     "metadata": {
      "needs_background": "light"
     },
     "output_type": "display_data"
    }
   ],
   "source": [
    "accidentes_hora = df.groupby(df[\"TIME\"]).size() \n",
    "accidentes_hora.plot().bar(height = 0.8, width = 0.1, x = \"TIME\")"
   ]
  },
  {
   "cell_type": "markdown",
   "metadata": {},
   "source": []
  },
  {
   "cell_type": "markdown",
   "metadata": {},
   "source": [
    "### Exercise 5 (15 min):\n",
    "\n",
    "En la pregunta anterior hemos agregado el número de accidentes por hora sin tener en cuenta la fecha y el lugar en que ocurrieron. ¿Qué crítica le daría a este enfoque?"
   ]
  },
  {
   "cell_type": "markdown",
   "metadata": {},
   "source": [
    "**Answer.** \n"
   ]
  },
  {
   "cell_type": "markdown",
   "metadata": {},
   "source": [
    "## Es un análisis útil, pero incompleto, se desperdicia la columna de municipio, perdiendo información relevante."
   ]
  },
  {
   "cell_type": "markdown",
   "metadata": {},
   "source": [
    "### Exercise 6 (15 min):\n",
    "\n",
    "¿Cómo varía el número de accidentes en una sola semana? Trace un gráfico de barras basado en el recuento de accidentes por día de la semana.\n",
    "\n",
    "**Sugerencia:** Puede encontrar útil la función ```dt.weekday```."
   ]
  },
  {
   "cell_type": "markdown",
   "metadata": {},
   "source": [
    "**Answer.**"
   ]
  },
  {
   "cell_type": "code",
   "execution_count": 55,
   "metadata": {},
   "outputs": [
    {
     "data": {
      "text/plain": [
       "<BarContainer object of 1 artists>"
      ]
     },
     "execution_count": 55,
     "metadata": {},
     "output_type": "execute_result"
    },
    {
     "data": {
      "image/png": "[encoded data removed]",
      "text/plain": [
       "<Figure size 432x288 with 1 Axes>"
      ]
     },
     "metadata": {
      "needs_background": "light"
     },
     "output_type": "display_data"
    }
   ],
   "source": [
    "accidentes_semanales = df.groupby(df[\"DATE\"].dt.weekday).size()\n",
    "accidentes_semanales.plot().bar(height = 0.8, x = \"DATE\")"
   ]
  },
  {
   "cell_type": "markdown",
   "metadata": {},
   "source": []
  },
  {
   "cell_type": "markdown",
   "metadata": {},
   "source": [
    "### Exercise 7 (30 min):\n",
    "\n",
    "Trace una gráfica de barras del número total de accidentes en cada municipio, así como uno de los accidentes por milla cuadrada por municipio. ¿Qué puedes concluir?\n",
    "\n",
    "**Sugerencia:** Es posible que desee actualizar algunas de las claves en el diccionario del municipio para que coincidan con los nombres en el marco de datos."
   ]
  },
  {
   "cell_type": "markdown",
   "metadata": {},
   "source": [
    "**Answer.**"
   ]
  },
  {
   "cell_type": "code",
   "execution_count": 61,
   "metadata": {},
   "outputs": [
    {
     "data": {
      "text/plain": [
       "<BarContainer object of 1 artists>"
      ]
     },
     "execution_count": 61,
     "metadata": {},
     "output_type": "execute_result"
    },
    {
     "data": {
      "image/png": "[encoded data removed]",
      "text/plain": [
       "<Figure size 432x288 with 1 Axes>"
      ]
     },
     "metadata": {
      "needs_background": "light"
     },
     "output_type": "display_data"
    }
   ],
   "source": [
    "accidentes_municipio = df.groupby(df[\"BOROUGH\"]).size()\n",
    "accidentes_municipio.plot().bar(x = \"Municipio\", height = 0.8)"
   ]
  },
  {
   "cell_type": "markdown",
   "metadata": {},
   "source": []
  },
  {
   "cell_type": "code",
   "execution_count": 67,
   "metadata": {},
   "outputs": [
    {
     "data": {
      "text/plain": [
       "<BarContainer object of 1 artists>"
      ]
     },
     "execution_count": 67,
     "metadata": {},
     "output_type": "execute_result"
    },
    {
     "data": {
      "image/png": "[encoded data removed]",
      "text/plain": [
       "<Figure size 432x288 with 1 Axes>"
      ]
     },
     "metadata": {
      "needs_background": "light"
     },
     "output_type": "display_data"
    }
   ],
   "source": [
    "accidentes_millas = df.groupby(df[\"LATITUDE\"]).size()\n",
    "accidentes_millas.plot().bar(x = \"latitude\", height = 0.8)"
   ]
  },
  {
   "cell_type": "markdown",
   "metadata": {},
   "source": []
  },
  {
   "cell_type": "code",
   "execution_count": null,
   "metadata": {
    "scrolled": true
   },
   "outputs": [],
   "source": []
  },
  {
   "cell_type": "markdown",
   "metadata": {},
   "source": []
  },
  {
   "cell_type": "markdown",
   "metadata": {},
   "source": [
    "### Exercise 8 (30 min):\n",
    "\n",
    "¿Qué horas tienen más accidentes en cada municipio? Trace un gráfico de barras para cada municipio que muestre el número de accidentes por cada hora del día.\n",
    "\n",
    "**Sugerencia:** Puede usar ```sns.FacetGrid``` para crear una cuadrícula de parcelas con los datos por hora de cada municipio."
   ]
  },
  {
   "cell_type": "markdown",
   "metadata": {},
   "source": [
    "**Answer.**"
   ]
  },
  {
   "cell_type": "code",
   "execution_count": null,
   "metadata": {},
   "outputs": [],
   "source": []
  },
  {
   "cell_type": "markdown",
   "metadata": {},
   "source": [
    "**¿Es mayor el número de accidentes en diferentes momentos en diferentes distritos? ¿Deberíamos concentrarnos en diferentes momentos para cada municipio?**"
   ]
  },
  {
   "cell_type": "markdown",
   "metadata": {},
   "source": []
  },
  {
   "cell_type": "markdown",
   "metadata": {},
   "source": [
    "### Exercise 9 (45 min):\n",
    "\n",
    "¿Qué factores provocan la mayoría de los accidentes? Evite contar dos veces los factores que contribuyen a un solo accidente.\n",
    "\n",
    "**Sugerencia:** Una forma de lidiar con las repeticiones es concatenar las columnas correspondientes conservando sus índices, puede hacerlo con las funciones ```pd.concat()``` y ```reset_index()```. Luego, use un ```group_by``` apropiado para contar el número de repeticiones de factores contribuidos por accidente."
   ]
  },
  {
   "cell_type": "markdown",
   "metadata": {},
   "source": [
    "**Answer**.\n"
   ]
  },
  {
   "cell_type": "code",
   "execution_count": null,
   "metadata": {},
   "outputs": [],
   "source": []
  },
  {
   "cell_type": "markdown",
   "metadata": {},
   "source": [
    "### Exercise 10 (45 min):\n",
    "\n",
    "¿Qué tipos de vehículos están más involucrados en accidentes por municipio? Evite contar dos veces el tipo de vehículos presentes en un solo accidente.\n",
    "\n",
    "**Sugerencia:** Puede aplicar un enfoque similar al utilizado en la pregunta anterior."
   ]
  },
  {
   "cell_type": "markdown",
   "metadata": {},
   "source": [
    "**Answer.** "
   ]
  },
  {
   "cell_type": "code",
   "execution_count": null,
   "metadata": {},
   "outputs": [],
   "source": []
  },
  {
   "cell_type": "markdown",
   "metadata": {},
   "source": []
  },
  {
   "cell_type": "markdown",
   "metadata": {},
   "source": [
    "### Exercise 11 (15 min):\n",
    "\n",
    "En 2018 para una [entrevista](https://www.nytimes.com/2019/01/01/nyregion/traffic-deaths-decrease-nyc.html) con The New York Times, el alcalde de Blasio de Nueva York declaró que *'Vision Zero está funcionando claramente'*. Ese año, el número de muertes en accidentes de tráfico en Nueva York se redujo a un histórico 202. Sin embargo, según lo informado por [am New York Metro](https://www.amny.com/news/vision-zero-de-blasio- 1-30707464 /), el número de víctimas mortales ha aumentado un 30% en el primer trimestre de 2019 en comparación con el año anterior y el número de peatones y ciclistas heridos no ha experimentado ninguna mejora.\n",
    "\n",
    "¿Cómo utilizaría los datos proporcionados para comprender qué salió mal en el primer trimestre de 2019?\n",
    "\n",
    "\n",
    "> - [ ] Considere los accidentes del primer trimestre de 2019. Luego, busque las causas más comunes de accidentes en los que estuvieron involucrados peatones y ciclistas. Dé una recomendación basada únicamente en esta información.\n",
    "\n",
    "> - [ ] Cree un par de mapas de calor de los accidentes que involucraron a peatones y ciclistas lesionados / muertos en el primer trimestre de 2018 y 2019. Compare estos dos para ver si hay algún cambio en la concentración de accidentes. En áreas críticas, estudie el tipo de factores involucrados en los accidentes. Dé una recomendación para visitar estas áreas para estudiar más el problema.   \n",
    "\n",
    "> - [ ] Los datos proporcionados son insuficientes para mejorar nuestra comprensión de la situación.\n",
    "\n",
    "> - [ ] Ninguna de las anteriores. Haría lo siguiente: *aquí tu respuesta recomendada*."
   ]
  },
  {
   "cell_type": "markdown",
   "metadata": {},
   "source": [
    "**Answer.**\n"
   ]
  },
  {
   "cell_type": "code",
   "execution_count": null,
   "metadata": {},
   "outputs": [],
   "source": []
  },
  {
   "cell_type": "markdown",
   "metadata": {},
   "source": [
    "### Exercise 12 (45 min):\n",
    "\n",
    "Calcula el número de muertes provocadas por cada tipo de vehículo. Trace un gráfico de barras para los 5 vehículos principales. ¿Qué vehículos están involucrados con mayor frecuencia en las muertes y cuánto más que los demás?\n",
    "\n",
    "**Por ejemplo,** si dos personas murieron en un accidente en el que estuvieron involucrados 5 vehículos: 4 son VEHÍCULOS DE PASAJEROS y 1 es un VAGÓN DEPORTIVO / ESTACIÓN. Luego, agregaríamos dos muertes a cada tipo de VEHÍCULO DE PASAJEROS y VAGÓN DE ESTACIÓN / SERVICIO DEPORTIVO.\n",
    "\n",
    "**Sugerencia:** Es posible que desee crear una nueva columna con el número total de muertes en el accidente. Para eso, puede encontrar útil la función ```.to_numpy()```. Luego, proceda como los ejercicios anteriores para evitar contabilizar dos veces el tipo de vehículos."
   ]
  },
  {
   "cell_type": "markdown",
   "metadata": {},
   "source": [
    "**Answer.**"
   ]
  },
  {
   "cell_type": "code",
   "execution_count": null,
   "metadata": {},
   "outputs": [],
   "source": []
  },
  {
   "cell_type": "markdown",
   "metadata": {},
   "source": []
  },
  {
   "cell_type": "code",
   "execution_count": null,
   "metadata": {},
   "outputs": [],
   "source": []
  },
  {
   "cell_type": "markdown",
   "metadata": {},
   "source": []
  }
 ],
 "metadata": {
  "celltoolbar": "Raw Cell Format",
  "kernelspec": {
   "display_name": "Python 3 (ipykernel)",
   "language": "python",
   "name": "python3"
  },
  "language_info": {
   "codemirror_mode": {
    "name": "ipython",
    "version": 3
   },
   "file_extension": ".py",
   "mimetype": "text/x-python",
   "name": "python",
   "nbconvert_exporter": "python",
   "pygments_lexer": "ipython3",
   "version": "3.8.10"
  }
 },
 "nbformat": 4,
 "nbformat_minor": 2
}
