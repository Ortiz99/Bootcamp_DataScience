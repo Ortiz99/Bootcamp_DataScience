{
 "cells": [
  {
   "cell_type": "code",
   "execution_count": 2,
   "id": "330966c4",
   "metadata": {},
   "outputs": [],
   "source": [
    "import numpy as np"
   ]
  },
  {
   "cell_type": "code",
   "execution_count": 3,
   "id": "8fdf7f7a",
   "metadata": {},
   "outputs": [],
   "source": [
    "M = np.array([[1,2,3], [4,5,6], [7,8,9]])\n",
    "v = np.array([[1],[2],[3]])"
   ]
  },
  {
   "cell_type": "code",
   "execution_count": 4,
   "id": "b24f8fba",
   "metadata": {},
   "outputs": [
    {
     "name": "stdout",
     "output_type": "stream",
     "text": [
      "(3, 3)\n"
     ]
    }
   ],
   "source": [
    "print(M.shape)"
   ]
  },
  {
   "cell_type": "code",
   "execution_count": 5,
   "id": "12f7f7ce",
   "metadata": {},
   "outputs": [],
   "source": [
    "#Otra forma de generar matrices\n",
    "columna1 = [1,2,3]\n",
    "columna2 = [2,3,4]\n",
    "columna3 = [5,6,7]\n",
    "M = np.vstack([columna1,columna2,columna3])"
   ]
  },
  {
   "cell_type": "code",
   "execution_count": 6,
   "id": "2e9ae8fe",
   "metadata": {},
   "outputs": [
    {
     "data": {
      "text/plain": [
       "array([[1, 2, 3],\n",
       "       [2, 3, 4],\n",
       "       [5, 6, 7]])"
      ]
     },
     "execution_count": 6,
     "metadata": {},
     "output_type": "execute_result"
    }
   ],
   "source": [
    "M"
   ]
  },
  {
   "cell_type": "code",
   "execution_count": 7,
   "id": "0c51f1f9",
   "metadata": {},
   "outputs": [
    {
     "data": {
      "text/plain": [
       "array([[1, 2, 5],\n",
       "       [2, 3, 6],\n",
       "       [3, 4, 7]])"
      ]
     },
     "execution_count": 7,
     "metadata": {},
     "output_type": "execute_result"
    }
   ],
   "source": [
    "#Traspuesta\n",
    "M.T"
   ]
  },
  {
   "cell_type": "markdown",
   "id": "fb9cb445",
   "metadata": {},
   "source": [
    "## Producto Punto Revisar"
   ]
  },
  {
   "cell_type": "code",
   "execution_count": 8,
   "id": "23a5ed81",
   "metadata": {},
   "outputs": [],
   "source": [
    "#Inversa Matriz\n",
    "N = np.linalg.inv(M)"
   ]
  },
  {
   "cell_type": "code",
   "execution_count": 9,
   "id": "b1a73e49",
   "metadata": {},
   "outputs": [
    {
     "data": {
      "text/plain": [
       "array([[-6.75539944e+16,  9.00719925e+16, -2.25179981e+16],\n",
       "       [ 1.35107989e+17, -1.80143985e+17,  4.50359963e+16],\n",
       "       [-6.75539944e+16,  9.00719925e+16, -2.25179981e+16]])"
      ]
     },
     "execution_count": 9,
     "metadata": {},
     "output_type": "execute_result"
    }
   ],
   "source": [
    "N"
   ]
  },
  {
   "cell_type": "code",
   "execution_count": 10,
   "id": "6e9e3d8f",
   "metadata": {},
   "outputs": [
    {
     "data": {
      "text/plain": [
       "4.440892098500594e-17"
      ]
     },
     "execution_count": 10,
     "metadata": {},
     "output_type": "execute_result"
    }
   ],
   "source": [
    "#Determinante\n",
    "N = np.linalg.det(M)\n",
    "N"
   ]
  },
  {
   "cell_type": "code",
   "execution_count": null,
   "id": "491c07b5",
   "metadata": {},
   "outputs": [],
   "source": []
  }
 ],
 "metadata": {
  "kernelspec": {
   "display_name": "Python 3 (ipykernel)",
   "language": "python",
   "name": "python3"
  },
  "language_info": {
   "codemirror_mode": {
    "name": "ipython",
    "version": 3
   },
   "file_extension": ".py",
   "mimetype": "text/x-python",
   "name": "python",
   "nbconvert_exporter": "python",
   "pygments_lexer": "ipython3",
   "version": "3.8.10"
  }
 },
 "nbformat": 4,
 "nbformat_minor": 5
}
