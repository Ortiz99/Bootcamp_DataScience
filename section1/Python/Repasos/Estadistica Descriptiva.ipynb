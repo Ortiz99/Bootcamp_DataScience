{
 "cells": [
  {
   "cell_type": "markdown",
   "id": "4c545dda",
   "metadata": {},
   "source": [
    "# Escalas de Medición(nominal,ordinal,intervalo)"
   ]
  },
  {
   "cell_type": "markdown",
   "id": "615dc81b",
   "metadata": {},
   "source": [
    "## Representación de datos"
   ]
  },
  {
   "cell_type": "markdown",
   "id": "96689da7",
   "metadata": {},
   "source": [
    "### Diagrama de Puntos: Para observaciones en escala continua, para ver el comportamiento de los datos"
   ]
  },
  {
   "cell_type": "markdown",
   "id": "a6880f8f",
   "metadata": {},
   "source": [
    "### Diagrama de Tallos y Hojas: Para poca información y ver la distribución rápidamente"
   ]
  },
  {
   "cell_type": "markdown",
   "id": "086ad139",
   "metadata": {},
   "source": [
    "### Histograma: Gran cantidad de datos"
   ]
  },
  {
   "cell_type": "markdown",
   "id": "7b6577ad",
   "metadata": {},
   "source": [
    "### Series de Tiempo"
   ]
  }
 ],
 "metadata": {
  "kernelspec": {
   "display_name": "Python 3 (ipykernel)",
   "language": "python",
   "name": "python3"
  },
  "language_info": {
   "codemirror_mode": {
    "name": "ipython",
    "version": 3
   },
   "file_extension": ".py",
   "mimetype": "text/x-python",
   "name": "python",
   "nbconvert_exporter": "python",
   "pygments_lexer": "ipython3",
   "version": "3.8.10"
  }
 },
 "nbformat": 4,
 "nbformat_minor": 5
}
